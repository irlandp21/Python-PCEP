{
 "cells": [
  {
   "cell_type": "code",
   "execution_count": 7,
   "id": "df0602c3-2fcb-471d-8ae5-8866bd385efc",
   "metadata": {
    "tags": []
   },
   "outputs": [
    {
     "name": "stdin",
     "output_type": "stream",
     "text": [
      "What is your age?  30\n"
     ]
    },
    {
     "name": "stdout",
     "output_type": "stream",
     "text": [
      "You are exactly 30 years old\n",
      "You will need to meet additional conditions to qualify!\n"
     ]
    }
   ],
   "source": [
    "user_age = int(input(\"What is your age? \"))\n",
    "if user_age > 30:\n",
    "    print(\"You are over 30 years old\")\n",
    "    print(\"Sorry you do not qualify\")\n",
    "elif user_age == 30:\n",
    "    print(\"You are exactly 30 years old\")\n",
    "    print(\"You will need to meet additional conditions to qualify!\")\n",
    "else:\n",
    "    print(\"You are 30 years old or younger\")\n",
    "    print(\"Congratulations, you qualify!\")"
   ]
  },
  {
   "cell_type": "code",
   "execution_count": null,
   "id": "2d5e5900-e32b-404b-ae74-7b7a232d20bb",
   "metadata": {},
   "outputs": [],
   "source": []
  }
 ],
 "metadata": {
  "kernelspec": {
   "display_name": "Python 3 (ipykernel)",
   "language": "python",
   "name": "python3"
  },
  "language_info": {
   "codemirror_mode": {
    "name": "ipython",
    "version": 3
   },
   "file_extension": ".py",
   "mimetype": "text/x-python",
   "name": "python",
   "nbconvert_exporter": "python",
   "pygments_lexer": "ipython3",
   "version": "3.11.5"
  }
 },
 "nbformat": 4,
 "nbformat_minor": 5
}
