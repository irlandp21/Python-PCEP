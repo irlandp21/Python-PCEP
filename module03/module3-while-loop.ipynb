{
 "cells": [
  {
   "cell_type": "code",
   "execution_count": 2,
   "id": "7a11d5ef-5a28-48ea-8ad3-2a8cd8441209",
   "metadata": {
    "tags": []
   },
   "outputs": [
    {
     "name": "stdout",
     "output_type": "stream",
     "text": [
      "1\n",
      "2\n",
      "3\n",
      "4\n",
      "5\n",
      "6\n",
      "7\n",
      "8\n",
      "9\n",
      "10\n",
      "Finished\n"
     ]
    }
   ],
   "source": [
    "counter = 1\n",
    "while counter < 11:\n",
    "    print(counter)\n",
    "    counter+=1\n",
    "print(\"Finished\")"
   ]
  },
  {
   "cell_type": "code",
   "execution_count": 3,
   "id": "9d0b631f-5e75-4e85-8724-056e2ea44fd0",
   "metadata": {
    "tags": []
   },
   "outputs": [
    {
     "name": "stdout",
     "output_type": "stream",
     "text": [
      "Finished\n"
     ]
    }
   ],
   "source": [
    "counter = 1\n",
    "while counter > 11:\n",
    "    print(counter)\n",
    "    counter+=1\n",
    "print(\"Finished\")"
   ]
  },
  {
   "cell_type": "code",
   "execution_count": 4,
   "id": "317d0499-2cfd-4d90-893f-1ef86d1fc24d",
   "metadata": {
    "tags": []
   },
   "outputs": [
    {
     "name": "stdin",
     "output_type": "stream",
     "text": [
      "Try to guess the number 10\n"
     ]
    },
    {
     "name": "stdout",
     "output_type": "stream",
     "text": [
      "\n",
      "==================================================\n",
      "===== SECRET NUMBER GAME\n",
      "==================================================\n",
      "\n",
      "Wrong\n"
     ]
    },
    {
     "name": "stdin",
     "output_type": "stream",
     "text": [
      "Try to guess the number 11\n"
     ]
    },
    {
     "name": "stdout",
     "output_type": "stream",
     "text": [
      "Wrong\n"
     ]
    },
    {
     "name": "stdin",
     "output_type": "stream",
     "text": [
      "Try to guess the number 12\n"
     ]
    },
    {
     "name": "stdout",
     "output_type": "stream",
     "text": [
      "Wrong\n"
     ]
    },
    {
     "name": "stdin",
     "output_type": "stream",
     "text": [
      "Try to guess the number 14\n"
     ]
    },
    {
     "name": "stdout",
     "output_type": "stream",
     "text": [
      "Perfect! you have guessed the secret number\n"
     ]
    }
   ],
   "source": [
    "secret_number = 14\n",
    "user_input = int(input(\"Try to guess the number\"))\n",
    "print('''\n",
    "==================================================\n",
    "===== SECRET NUMBER GAME\n",
    "==================================================\n",
    "''')\n",
    "while(user_input != secret_number):\n",
    "    print(\"Wrong\")\n",
    "    user_input = int(input(\"Try to guess the number\"))\n",
    "print(\"Perfect! you have guessed the secret number\")\n"
   ]
  },
  {
   "cell_type": "code",
   "execution_count": null,
   "id": "03031f32-7292-47f8-a9b1-e2e664b823e3",
   "metadata": {},
   "outputs": [],
   "source": []
  }
 ],
 "metadata": {
  "kernelspec": {
   "display_name": "Python 3 (ipykernel)",
   "language": "python",
   "name": "python3"
  },
  "language_info": {
   "codemirror_mode": {
    "name": "ipython",
    "version": 3
   },
   "file_extension": ".py",
   "mimetype": "text/x-python",
   "name": "python",
   "nbconvert_exporter": "python",
   "pygments_lexer": "ipython3",
   "version": "3.11.5"
  }
 },
 "nbformat": 4,
 "nbformat_minor": 5
}
