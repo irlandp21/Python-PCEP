{
 "cells": [
  {
   "cell_type": "code",
   "execution_count": 1,
   "id": "4e2d2619-341c-4b90-8dae-02ac71a186e7",
   "metadata": {
    "tags": []
   },
   "outputs": [],
   "source": [
    "# available logical operators\n",
    "# < less than\n",
    "# > greater than\n",
    "# <= less than or equal\n",
    "# >= greater than or equal\n",
    "# == equals\n",
    "# != not equals"
   ]
  },
  {
   "cell_type": "code",
   "execution_count": 2,
   "id": "9a964587-4c9e-4e74-b9b3-61df23ee586e",
   "metadata": {
    "tags": []
   },
   "outputs": [
    {
     "name": "stdin",
     "output_type": "stream",
     "text": [
      "Do you know the secret password? --secret\n"
     ]
    },
    {
     "name": "stdout",
     "output_type": "stream",
     "text": [
      "correct password\n"
     ]
    }
   ],
   "source": [
    "password = input(\"Do you know the secret password?\")\n",
    "if password != \"--secret\":\n",
    "    print(\"Not correct\")\n",
    "else:\n",
    "    print(\"correct password\")"
   ]
  },
  {
   "cell_type": "code",
   "execution_count": 3,
   "id": "7d95eb8e-33d1-4c8a-a286-60436ef0e055",
   "metadata": {
    "tags": []
   },
   "outputs": [
    {
     "name": "stdout",
     "output_type": "stream",
     "text": [
      "condition met\n"
     ]
    }
   ],
   "source": [
    "if True:\n",
    "    print(\"condition met\")"
   ]
  },
  {
   "cell_type": "code",
   "execution_count": 4,
   "id": "5952b108-165e-4e0c-bd37-9bacb1d6251e",
   "metadata": {
    "tags": []
   },
   "outputs": [],
   "source": [
    "if False:\n",
    "    print(\"Condition not met\")"
   ]
  },
  {
   "cell_type": "code",
   "execution_count": 5,
   "id": "09d11a13-e315-4cfb-a7a4-532a3b5b1e1b",
   "metadata": {
    "tags": []
   },
   "outputs": [
    {
     "name": "stdout",
     "output_type": "stream",
     "text": [
      "true\n"
     ]
    }
   ],
   "source": [
    "if 2==2:\n",
    "    print(\"true\")"
   ]
  },
  {
   "cell_type": "code",
   "execution_count": 6,
   "id": "c0bddf7c-48ae-4f42-8d6b-5dd286689636",
   "metadata": {
    "tags": []
   },
   "outputs": [],
   "source": [
    "if 1==2:\n",
    "    print(\"true\")"
   ]
  },
  {
   "cell_type": "code",
   "execution_count": 7,
   "id": "09c244db-80c2-4c7d-8df0-40e53fcbfadb",
   "metadata": {
    "tags": []
   },
   "outputs": [
    {
     "name": "stdout",
     "output_type": "stream",
     "text": [
      "true\n"
     ]
    }
   ],
   "source": [
    "if 2 == 2.0:\n",
    "    print(\"true\")"
   ]
  },
  {
   "cell_type": "code",
   "execution_count": null,
   "id": "a9838cee-a428-4d2f-a701-a533c3e7cf5b",
   "metadata": {},
   "outputs": [],
   "source": []
  }
 ],
 "metadata": {
  "kernelspec": {
   "display_name": "Python 3 (ipykernel)",
   "language": "python",
   "name": "python3"
  },
  "language_info": {
   "codemirror_mode": {
    "name": "ipython",
    "version": 3
   },
   "file_extension": ".py",
   "mimetype": "text/x-python",
   "name": "python",
   "nbconvert_exporter": "python",
   "pygments_lexer": "ipython3",
   "version": "3.11.5"
  }
 },
 "nbformat": 4,
 "nbformat_minor": 5
}
