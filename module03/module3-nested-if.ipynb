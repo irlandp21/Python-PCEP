{
 "cells": [
  {
   "cell_type": "code",
   "execution_count": 2,
   "id": "73ff59ac-ceac-43c3-abbf-513415e2ae8a",
   "metadata": {
    "tags": []
   },
   "outputs": [
    {
     "name": "stdin",
     "output_type": "stream",
     "text": [
      "Do you like travelling? y\n",
      "And do you like Asia? y\n"
     ]
    },
    {
     "name": "stdout",
     "output_type": "stream",
     "text": [
      "Excellent! you can win a ticket to Thailand\n"
     ]
    }
   ],
   "source": [
    "answer_a = input(\"Do you like travelling?\")\n",
    "if answer_a == 'y':\n",
    "    answer_b = input(\"And do you like Asia?\")\n",
    "    if answer_b == \"y\":\n",
    "        print(\"Excellent! you can win a ticket to Thailand\")\n",
    "    else:\n",
    "        print(\"Sorry to hear that\")\n",
    "    \n",
    "else:\n",
    "    print(\"Sorry to hear that!\")\n",
    "        \n",
    "                 "
   ]
  },
  {
   "cell_type": "code",
   "execution_count": null,
   "id": "6fec4d1e-5cfc-4f1f-b31b-b1315a428bcc",
   "metadata": {},
   "outputs": [],
   "source": []
  }
 ],
 "metadata": {
  "kernelspec": {
   "display_name": "Python 3 (ipykernel)",
   "language": "python",
   "name": "python3"
  },
  "language_info": {
   "codemirror_mode": {
    "name": "ipython",
    "version": 3
   },
   "file_extension": ".py",
   "mimetype": "text/x-python",
   "name": "python",
   "nbconvert_exporter": "python",
   "pygments_lexer": "ipython3",
   "version": "3.11.5"
  }
 },
 "nbformat": 4,
 "nbformat_minor": 5
}
