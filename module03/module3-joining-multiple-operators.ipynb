{
 "cells": [
  {
   "cell_type": "code",
   "execution_count": 2,
   "id": "c4645c9a-a8a7-4afe-bb12-e1109929b71a",
   "metadata": {
    "tags": []
   },
   "outputs": [
    {
     "name": "stdin",
     "output_type": "stream",
     "text": [
      "What is your age 23\n",
      "What is your country Germany\n"
     ]
    },
    {
     "name": "stdout",
     "output_type": "stream",
     "text": [
      "You can apply\n"
     ]
    }
   ],
   "source": [
    "user_age = int(input(\"What is your age\"))\n",
    "user_country=input(\"What is your country\")\n",
    "\n",
    "if user_age < 25 and user_country == \"Germany\":\n",
    "    print(\"You can apply for a German student exchange program\")\n",
    "else:\n",
    "    print(\"Sorry you do not qualify\")"
   ]
  },
  {
   "cell_type": "code",
   "execution_count": 4,
   "id": "02842238-21b9-49c3-a92c-f2d73c69ccf2",
   "metadata": {
    "tags": []
   },
   "outputs": [
    {
     "name": "stdin",
     "output_type": "stream",
     "text": [
      "What is your country Germany\n"
     ]
    },
    {
     "name": "stdout",
     "output_type": "stream",
     "text": [
      "Sorry you do not qualify\n"
     ]
    }
   ],
   "source": [
    "user_country=input(\"What is your country\")\n",
    "\n",
    "if user_country == \"Sweden\" or user_country == \"Denmark\" or user_country == \"Norway\":\n",
    "    print(\"You can apply for a scandanavian student exchange program\")\n",
    "else:\n",
    "    print(\"Sorry you do not qualify\")"
   ]
  },
  {
   "cell_type": "code",
   "execution_count": 5,
   "id": "3ddaa11b-89bd-4e08-a7d4-c3850c89a077",
   "metadata": {
    "tags": []
   },
   "outputs": [
    {
     "name": "stdin",
     "output_type": "stream",
     "text": [
      "Where do you come from? Germany\n"
     ]
    },
    {
     "name": "stdout",
     "output_type": "stream",
     "text": [
      "You are from Germany\n"
     ]
    }
   ],
   "source": [
    "user_country=input(\"Where do you come from?\")\n",
    "\n",
    "if not user_country == \"Germany\":\n",
    "    print(\"You are not from Germany\")\n",
    "else:\n",
    "    print(\"You are from Germany\")"
   ]
  },
  {
   "cell_type": "code",
   "execution_count": 7,
   "id": "a412cab3-47b1-4830-ad90-c4efbeebdf14",
   "metadata": {
    "tags": []
   },
   "outputs": [
    {
     "name": "stdin",
     "output_type": "stream",
     "text": [
      "What is your age 23\n",
      "What is your country Thailand\n"
     ]
    },
    {
     "name": "stdout",
     "output_type": "stream",
     "text": [
      "You qualify\n"
     ]
    }
   ],
   "source": [
    "user_age = int(input(\"What is your age\"))\n",
    "user_country=input(\"What is your country\")\n",
    "\n",
    "if not user_country == \"Germany\" and user_age < 25 or \\\n",
    "    user_country == \"Germany\" and user_age < 23:\n",
    "    print(\"You qualify\")\n",
    "else:\n",
    "    print(\"Sorry you do not qualify\")"
   ]
  },
  {
   "cell_type": "code",
   "execution_count": null,
   "id": "a3192bf6-f780-4069-a02b-f283ddbff380",
   "metadata": {},
   "outputs": [],
   "source": []
  }
 ],
 "metadata": {
  "kernelspec": {
   "display_name": "Python 3 (ipykernel)",
   "language": "python",
   "name": "python3"
  },
  "language_info": {
   "codemirror_mode": {
    "name": "ipython",
    "version": 3
   },
   "file_extension": ".py",
   "mimetype": "text/x-python",
   "name": "python",
   "nbconvert_exporter": "python",
   "pygments_lexer": "ipython3",
   "version": "3.11.5"
  }
 },
 "nbformat": 4,
 "nbformat_minor": 5
}
