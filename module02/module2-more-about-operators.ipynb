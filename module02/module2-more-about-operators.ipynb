{
 "cells": [
  {
   "cell_type": "code",
   "execution_count": 1,
   "id": "fc30bcf5-123b-4a0a-a499-416b1896f6b6",
   "metadata": {
    "tags": []
   },
   "outputs": [
    {
     "data": {
      "text/plain": [
       "12"
      ]
     },
     "execution_count": 1,
     "metadata": {},
     "output_type": "execute_result"
    }
   ],
   "source": [
    "5 + 7"
   ]
  },
  {
   "cell_type": "code",
   "execution_count": 2,
   "id": "02c8fd02-b74c-4bbd-b4af-168186cb74da",
   "metadata": {
    "tags": []
   },
   "outputs": [
    {
     "data": {
      "text/plain": [
       "-2"
      ]
     },
     "execution_count": 2,
     "metadata": {},
     "output_type": "execute_result"
    }
   ],
   "source": [
    "5 - 7"
   ]
  },
  {
   "cell_type": "code",
   "execution_count": 3,
   "id": "f3b10ed1-0fe5-4100-b7d8-91481dcf2e4d",
   "metadata": {
    "tags": []
   },
   "outputs": [
    {
     "name": "stdout",
     "output_type": "stream",
     "text": [
      "12\n"
     ]
    }
   ],
   "source": [
    "print(+12)"
   ]
  },
  {
   "cell_type": "code",
   "execution_count": 4,
   "id": "9fed9f17-2143-484e-90ac-f8f777bd3f6a",
   "metadata": {
    "tags": []
   },
   "outputs": [
    {
     "name": "stdout",
     "output_type": "stream",
     "text": [
      "-2\n"
     ]
    }
   ],
   "source": [
    "print(-2)"
   ]
  },
  {
   "cell_type": "code",
   "execution_count": 5,
   "id": "a7c05604-5386-4b78-be55-37b9badc2fde",
   "metadata": {
    "tags": []
   },
   "outputs": [],
   "source": [
    "# ORDER OF OPERATORS\n",
    "# 1. **\n",
    "# 2. * / // %\n",
    "# 3. + -"
   ]
  },
  {
   "cell_type": "code",
   "execution_count": 6,
   "id": "d5de946c-5adc-4845-9b38-93dbb684ee55",
   "metadata": {
    "tags": []
   },
   "outputs": [
    {
     "data": {
      "text/plain": [
       "8"
      ]
     },
     "execution_count": 6,
     "metadata": {},
     "output_type": "execute_result"
    }
   ],
   "source": [
    "2+3 *2"
   ]
  },
  {
   "cell_type": "code",
   "execution_count": 7,
   "id": "377bfe3a-62d9-4b63-9273-d85c78c8f5d1",
   "metadata": {
    "tags": []
   },
   "outputs": [
    {
     "data": {
      "text/plain": [
       "10"
      ]
     },
     "execution_count": 7,
     "metadata": {},
     "output_type": "execute_result"
    }
   ],
   "source": [
    "(2+3)* 2"
   ]
  },
  {
   "cell_type": "code",
   "execution_count": 8,
   "id": "92ee4ba6-87c7-4319-9b43-34beea8cfcde",
   "metadata": {
    "tags": []
   },
   "outputs": [
    {
     "name": "stdout",
     "output_type": "stream",
     "text": [
      "0.1\n"
     ]
    }
   ],
   "source": [
    "print(0.1)\n"
   ]
  },
  {
   "cell_type": "code",
   "execution_count": 9,
   "id": "cd413794-128e-422c-984f-327ced40efaf",
   "metadata": {
    "tags": []
   },
   "outputs": [
    {
     "name": "stdout",
     "output_type": "stream",
     "text": [
      "0.30000000000000004\n"
     ]
    }
   ],
   "source": [
    "print(0.1+0.1+0.1)"
   ]
  },
  {
   "cell_type": "code",
   "execution_count": 11,
   "id": "406dc90b-b44c-43a6-9914-670c4edfa8ef",
   "metadata": {
    "tags": []
   },
   "outputs": [
    {
     "data": {
      "text/plain": [
       "64"
      ]
     },
     "execution_count": 11,
     "metadata": {},
     "output_type": "execute_result"
    }
   ],
   "source": [
    "(2 ** 2) ** 3"
   ]
  },
  {
   "cell_type": "code",
   "execution_count": 12,
   "id": "553c63b2-feb9-4f37-8f31-366dbfb8b81b",
   "metadata": {
    "tags": []
   },
   "outputs": [
    {
     "data": {
      "text/plain": [
       "256"
      ]
     },
     "execution_count": 12,
     "metadata": {},
     "output_type": "execute_result"
    }
   ],
   "source": [
    "2 ** 2 ** 3"
   ]
  },
  {
   "cell_type": "code",
   "execution_count": null,
   "id": "6bdc1df7-fcde-4856-8907-ea687352dc75",
   "metadata": {},
   "outputs": [],
   "source": []
  }
 ],
 "metadata": {
  "kernelspec": {
   "display_name": "Python 3 (ipykernel)",
   "language": "python",
   "name": "python3"
  },
  "language_info": {
   "codemirror_mode": {
    "name": "ipython",
    "version": 3
   },
   "file_extension": ".py",
   "mimetype": "text/x-python",
   "name": "python",
   "nbconvert_exporter": "python",
   "pygments_lexer": "ipython3",
   "version": "3.11.5"
  }
 },
 "nbformat": 4,
 "nbformat_minor": 5
}
