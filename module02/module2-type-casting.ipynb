{
 "cells": [
  {
   "cell_type": "code",
   "execution_count": 5,
   "id": "8d4d5447-22b0-4a2e-84f6-3cce050915b7",
   "metadata": {
    "tags": []
   },
   "outputs": [
    {
     "name": "stdin",
     "output_type": "stream",
     "text": [
      "Height converter: enter your height in cm:  174\n"
     ]
    },
    {
     "name": "stdout",
     "output_type": "stream",
     "text": [
      "Your height in feet is: 5.708661417322834\n"
     ]
    }
   ],
   "source": [
    "height_cm = input(\"Height converter: enter your height in cm: \")\n",
    "float_height_cm=float(height_cm)\n",
    "print(\"Your height in feet is:\",float_height_cm / 30.48)"
   ]
  },
  {
   "cell_type": "code",
   "execution_count": 6,
   "id": "b0715736-b2f4-499a-aec9-2e1b5eff6fec",
   "metadata": {
    "tags": []
   },
   "outputs": [
    {
     "name": "stdin",
     "output_type": "stream",
     "text": [
      "Height converter: enter your height in cm:  174\n"
     ]
    },
    {
     "name": "stdout",
     "output_type": "stream",
     "text": [
      "Your height in feet is: 5.708661417322834\n"
     ]
    }
   ],
   "source": [
    "height_cm = float(input(\"Height converter: enter your height in cm: \"))\n",
    "print(\"Your height in feet is:\",height_cm / 30.48)"
   ]
  },
  {
   "cell_type": "code",
   "execution_count": 10,
   "id": "04b638ce-4ae6-4b60-86fa-a6347da354b7",
   "metadata": {
    "tags": []
   },
   "outputs": [
    {
     "name": "stdin",
     "output_type": "stream",
     "text": [
      "What year were you born? 1980\n"
     ]
    },
    {
     "name": "stdout",
     "output_type": "stream",
     "text": [
      "In 2100, you will be 120 years old,provied you live this long!\n"
     ]
    }
   ],
   "source": [
    "year_born = int(input(\"What year were you born?\"))\n",
    "print('In 2100, you will be', 2100 - year_born,'years old,provied you live this long!')"
   ]
  },
  {
   "cell_type": "code",
   "execution_count": 11,
   "id": "4f5cfc1e-113d-4863-a388-24a3b9edd75a",
   "metadata": {
    "tags": []
   },
   "outputs": [
    {
     "name": "stdin",
     "output_type": "stream",
     "text": [
      "Enter the temperature today in Celsius degrees: 32\n"
     ]
    },
    {
     "name": "stdout",
     "output_type": "stream",
     "text": [
      "32degrees Celsius is 89.6 in Fahrenheit\n"
     ]
    }
   ],
   "source": [
    "temp_c = input('Enter the temperature today in Celsius degrees:')\n",
    "temp_f = float(temp_c)* 1.8 + 32\n",
    "temp_statement = str(temp_c)+\" degrees Celsius is \"+str(temp_f)+\" in Fahrenheit\"\n",
    "print(temp_statement)"
   ]
  },
  {
   "cell_type": "code",
   "execution_count": null,
   "id": "bc1a59a9-68cc-4d47-bfc4-62cd190104f3",
   "metadata": {},
   "outputs": [],
   "source": []
  }
 ],
 "metadata": {
  "kernelspec": {
   "display_name": "Python 3 (ipykernel)",
   "language": "python",
   "name": "python3"
  },
  "language_info": {
   "codemirror_mode": {
    "name": "ipython",
    "version": 3
   },
   "file_extension": ".py",
   "mimetype": "text/x-python",
   "name": "python",
   "nbconvert_exporter": "python",
   "pygments_lexer": "ipython3",
   "version": "3.11.5"
  }
 },
 "nbformat": 4,
 "nbformat_minor": 5
}
