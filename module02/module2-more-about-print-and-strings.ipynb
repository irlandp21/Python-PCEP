{
 "cells": [
  {
   "cell_type": "code",
   "execution_count": 2,
   "id": "f06dde9f-6e6a-4805-875c-8d550bfd3bf7",
   "metadata": {
    "tags": []
   },
   "outputs": [
    {
     "data": {
      "text/plain": [
       "6"
      ]
     },
     "execution_count": 2,
     "metadata": {},
     "output_type": "execute_result"
    }
   ],
   "source": [
    "len(\"Hello!\")"
   ]
  },
  {
   "cell_type": "code",
   "execution_count": 4,
   "id": "97c318ac-3415-428f-9f67-ec3ecf697faa",
   "metadata": {
    "tags": []
   },
   "outputs": [
    {
     "name": "stdout",
     "output_type": "stream",
     "text": [
      "Hello, World!\n",
      "Python speaking!\n"
     ]
    }
   ],
   "source": [
    "print(\"Hello, World!\")\n",
    "print(\"Python speaking!\")"
   ]
  },
  {
   "cell_type": "code",
   "execution_count": 5,
   "id": "cc67e1d4-7ab6-469c-ab8a-928279eebf83",
   "metadata": {
    "tags": []
   },
   "outputs": [
    {
     "name": "stdout",
     "output_type": "stream",
     "text": [
      "Hello, World!.Python speaking!\n"
     ]
    }
   ],
   "source": [
    "print(\"Hello, World!\",end=\".\")\n",
    "print(\"Python speaking!\")"
   ]
  },
  {
   "cell_type": "code",
   "execution_count": 7,
   "id": "c3b37aeb-e1c6-4d07-b27b-76c0d841a2a9",
   "metadata": {
    "tags": []
   },
   "outputs": [
    {
     "name": "stdout",
     "output_type": "stream",
     "text": [
      "Your first name is John Welcome!."
     ]
    }
   ],
   "source": [
    "first_name='John'\n",
    "print('Your first name is',first_name,'Welcome!',sep=\" \",end=\".\")"
   ]
  },
  {
   "cell_type": "code",
   "execution_count": null,
   "id": "3bcd6817-cfca-42f3-9de2-a0218120166b",
   "metadata": {},
   "outputs": [],
   "source": []
  }
 ],
 "metadata": {
  "kernelspec": {
   "display_name": "Python 3 (ipykernel)",
   "language": "python",
   "name": "python3"
  },
  "language_info": {
   "codemirror_mode": {
    "name": "ipython",
    "version": 3
   },
   "file_extension": ".py",
   "mimetype": "text/x-python",
   "name": "python",
   "nbconvert_exporter": "python",
   "pygments_lexer": "ipython3",
   "version": "3.11.5"
  }
 },
 "nbformat": 4,
 "nbformat_minor": 5
}
