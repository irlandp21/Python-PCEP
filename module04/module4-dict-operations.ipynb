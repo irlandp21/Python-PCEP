{
 "cells": [
  {
   "cell_type": "code",
   "execution_count": 1,
   "id": "8af8bc2f-2969-49ec-8f4e-4ec76120ad11",
   "metadata": {
    "tags": []
   },
   "outputs": [],
   "source": [
    "grades = {}"
   ]
  },
  {
   "cell_type": "code",
   "execution_count": 2,
   "id": "cb566640-4ae3-4192-9abc-4485ecbc987e",
   "metadata": {
    "tags": []
   },
   "outputs": [],
   "source": [
    "grades['John'] = 'A-'"
   ]
  },
  {
   "cell_type": "code",
   "execution_count": 3,
   "id": "73137375-a0cf-4aa0-9884-2bcdfbef66dc",
   "metadata": {
    "tags": []
   },
   "outputs": [],
   "source": [
    "grades['Anne'] = 'B'"
   ]
  },
  {
   "cell_type": "code",
   "execution_count": 4,
   "id": "c604863b-91a8-4c84-bb32-c087ac2919c1",
   "metadata": {
    "tags": []
   },
   "outputs": [
    {
     "name": "stdout",
     "output_type": "stream",
     "text": [
      "{'John': 'A-', 'Anne': 'B'}\n"
     ]
    }
   ],
   "source": [
    "print(grades)"
   ]
  },
  {
   "cell_type": "code",
   "execution_count": 5,
   "id": "a54f2ebb-89c6-4495-9a0b-9177475a1e57",
   "metadata": {
    "tags": []
   },
   "outputs": [],
   "source": [
    "grades['Anne'] = 'A'"
   ]
  },
  {
   "cell_type": "code",
   "execution_count": 6,
   "id": "995e41c9-3932-4933-89ca-bad5e9b38f45",
   "metadata": {
    "tags": []
   },
   "outputs": [
    {
     "name": "stdout",
     "output_type": "stream",
     "text": [
      "{'John': 'A-', 'Anne': 'A'}\n"
     ]
    }
   ],
   "source": [
    "print(grades)\n"
   ]
  },
  {
   "cell_type": "code",
   "execution_count": 7,
   "id": "46b6b92f-d603-4b5b-b1d6-dc1b40974ef8",
   "metadata": {
    "tags": []
   },
   "outputs": [],
   "source": [
    "grades.update({'John':'A'})"
   ]
  },
  {
   "cell_type": "code",
   "execution_count": 8,
   "id": "3b5537a4-1d0c-4330-9ffa-112c9c663763",
   "metadata": {
    "tags": []
   },
   "outputs": [
    {
     "data": {
      "text/plain": [
       "2"
      ]
     },
     "execution_count": 8,
     "metadata": {},
     "output_type": "execute_result"
    }
   ],
   "source": [
    "len(grades)"
   ]
  },
  {
   "cell_type": "code",
   "execution_count": 9,
   "id": "20573193-e8d8-4417-8d72-d7f9cdfeb3ac",
   "metadata": {
    "tags": []
   },
   "outputs": [
    {
     "name": "stdout",
     "output_type": "stream",
     "text": [
      "John got: A\n"
     ]
    }
   ],
   "source": [
    "if 'John' in grades:\n",
    "    print('John got:',grades['John'])"
   ]
  },
  {
   "cell_type": "code",
   "execution_count": 11,
   "id": "1c9eeeaa-2c47-40bc-8e8c-6645a14ab1de",
   "metadata": {
    "tags": []
   },
   "outputs": [
    {
     "name": "stdout",
     "output_type": "stream",
     "text": [
      "{'Anne': 'A'}\n"
     ]
    }
   ],
   "source": [
    "del grades['John']\n",
    "print(grades)"
   ]
  },
  {
   "cell_type": "code",
   "execution_count": 12,
   "id": "7522b9c2-5d5b-4064-a267-fd63429e1959",
   "metadata": {
    "tags": []
   },
   "outputs": [],
   "source": [
    "grades = {}\n",
    "grades['John'] = 'A-'\n",
    "grades['Anne'] = 'B'"
   ]
  },
  {
   "cell_type": "code",
   "execution_count": 13,
   "id": "a881a84a-80e4-4024-b8f1-db7f03f58c43",
   "metadata": {
    "tags": []
   },
   "outputs": [
    {
     "name": "stdout",
     "output_type": "stream",
     "text": [
      "John\n",
      "Anne\n"
     ]
    }
   ],
   "source": [
    "for el in grades:\n",
    "    print(el)"
   ]
  },
  {
   "cell_type": "code",
   "execution_count": 15,
   "id": "911a0241-0476-49cd-9b3d-015fd9827d2a",
   "metadata": {
    "tags": []
   },
   "outputs": [
    {
     "name": "stdout",
     "output_type": "stream",
     "text": [
      "John\n",
      "Anne\n"
     ]
    }
   ],
   "source": [
    "for el in grades.keys():\n",
    "    print(el)"
   ]
  },
  {
   "cell_type": "code",
   "execution_count": 17,
   "id": "face62c7-0dda-4dad-9785-6e8a26a6ea38",
   "metadata": {
    "tags": []
   },
   "outputs": [
    {
     "name": "stdout",
     "output_type": "stream",
     "text": [
      "A-\n",
      "B\n"
     ]
    }
   ],
   "source": [
    "for el in grades.values():\n",
    "    print(el)"
   ]
  },
  {
   "cell_type": "code",
   "execution_count": 18,
   "id": "50b82846-269c-4d35-b50f-5a83c7a3974e",
   "metadata": {
    "tags": []
   },
   "outputs": [
    {
     "name": "stdout",
     "output_type": "stream",
     "text": [
      "John A-\n",
      "Anne B\n"
     ]
    }
   ],
   "source": [
    "for person,grade in grades.items():\n",
    "    print(person,grade)"
   ]
  },
  {
   "cell_type": "code",
   "execution_count": null,
   "id": "f05458be-5965-48f1-ae96-ab0f94be6961",
   "metadata": {},
   "outputs": [],
   "source": []
  }
 ],
 "metadata": {
  "kernelspec": {
   "display_name": "Python 3 (ipykernel)",
   "language": "python",
   "name": "python3"
  },
  "language_info": {
   "codemirror_mode": {
    "name": "ipython",
    "version": 3
   },
   "file_extension": ".py",
   "mimetype": "text/x-python",
   "name": "python",
   "nbconvert_exporter": "python",
   "pygments_lexer": "ipython3",
   "version": "3.11.5"
  }
 },
 "nbformat": 4,
 "nbformat_minor": 5
}
