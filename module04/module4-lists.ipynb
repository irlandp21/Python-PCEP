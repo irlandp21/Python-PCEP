{
 "cells": [
  {
   "cell_type": "code",
   "execution_count": 1,
   "id": "1278fa5e-492b-475e-96ca-d802d5d19a88",
   "metadata": {
    "tags": []
   },
   "outputs": [],
   "source": [
    "number = 2\n",
    "number = 5"
   ]
  },
  {
   "cell_type": "code",
   "execution_count": 2,
   "id": "66723ed4-e2a7-447e-aeee-b97b7dda8c9c",
   "metadata": {
    "tags": []
   },
   "outputs": [
    {
     "name": "stdout",
     "output_type": "stream",
     "text": [
      "New York City,Los Angeles,Chicago,Houston,Phoenix\n"
     ]
    }
   ],
   "source": [
    "city_1 = 'New York City'\n",
    "city_2 = 'Los Angeles'\n",
    "city_3 = 'Chicago'\n",
    "city_4 = 'Houston'\n",
    "city_5 = 'Phoenix'\n",
    "print(city_1,city_2,city_3,city_4,city_5,sep=\",\")"
   ]
  },
  {
   "cell_type": "code",
   "execution_count": 3,
   "id": "23327d1e-6762-4623-bb12-2f92e10088ae",
   "metadata": {
    "tags": []
   },
   "outputs": [
    {
     "name": "stdout",
     "output_type": "stream",
     "text": [
      "[]\n"
     ]
    }
   ],
   "source": [
    "empty_list = []\n",
    "print(empty_list)"
   ]
  },
  {
   "cell_type": "code",
   "execution_count": 4,
   "id": "eedfe894-1ffd-4145-8791-6127d259d15b",
   "metadata": {
    "tags": []
   },
   "outputs": [
    {
     "name": "stdout",
     "output_type": "stream",
     "text": [
      "['New York City', 'Los Angeles', 'Chicago', 'Houston', 'Phoenix']\n"
     ]
    }
   ],
   "source": [
    "top_cities = ['New York City','Los Angeles','Chicago','Houston','Phoenix']\n",
    "print(top_cities)"
   ]
  },
  {
   "cell_type": "code",
   "execution_count": 5,
   "id": "2b1efcb9-977c-4503-9b92-4e1e5b9a6d96",
   "metadata": {
    "tags": []
   },
   "outputs": [
    {
     "data": {
      "text/plain": [
       "'New York City'"
      ]
     },
     "execution_count": 5,
     "metadata": {},
     "output_type": "execute_result"
    }
   ],
   "source": [
    "top_cities[0]"
   ]
  },
  {
   "cell_type": "code",
   "execution_count": 6,
   "id": "d3119d14-6110-4ff7-b456-e7d5b16f244a",
   "metadata": {
    "tags": []
   },
   "outputs": [
    {
     "data": {
      "text/plain": [
       "'Los Angeles'"
      ]
     },
     "execution_count": 6,
     "metadata": {},
     "output_type": "execute_result"
    }
   ],
   "source": [
    "top_cities[1]"
   ]
  },
  {
   "cell_type": "code",
   "execution_count": 7,
   "id": "ced8e906-8707-4327-86cd-fe3403c88e5e",
   "metadata": {
    "tags": []
   },
   "outputs": [
    {
     "data": {
      "text/plain": [
       "'Phoenix'"
      ]
     },
     "execution_count": 7,
     "metadata": {},
     "output_type": "execute_result"
    }
   ],
   "source": [
    "top_cities[4]\n"
   ]
  },
  {
   "cell_type": "code",
   "execution_count": 8,
   "id": "f4a398d1-3352-46c2-b32e-738bce5721f4",
   "metadata": {
    "tags": []
   },
   "outputs": [
    {
     "data": {
      "text/plain": [
       "'Phoenix'"
      ]
     },
     "execution_count": 8,
     "metadata": {},
     "output_type": "execute_result"
    }
   ],
   "source": [
    "top_cities[-1]"
   ]
  },
  {
   "cell_type": "code",
   "execution_count": 9,
   "id": "a7cc4688-2c79-4b7e-8a12-e51a01fb748a",
   "metadata": {
    "tags": []
   },
   "outputs": [
    {
     "data": {
      "text/plain": [
       "'Houston'"
      ]
     },
     "execution_count": 9,
     "metadata": {},
     "output_type": "execute_result"
    }
   ],
   "source": [
    "top_cities[-2]"
   ]
  },
  {
   "cell_type": "code",
   "execution_count": 11,
   "id": "467c0445-151d-445f-8340-328c45debb2b",
   "metadata": {
    "tags": []
   },
   "outputs": [
    {
     "data": {
      "text/plain": [
       "['New York City', 'Los Angeles']"
      ]
     },
     "execution_count": 11,
     "metadata": {},
     "output_type": "execute_result"
    }
   ],
   "source": [
    "# Slicing\n",
    "# Specify the first element to include and second element not to include\n",
    "top_cities[0:2]"
   ]
  },
  {
   "cell_type": "code",
   "execution_count": 12,
   "id": "6e47545b-b77e-4f81-81ac-fd9222b4e792",
   "metadata": {
    "tags": []
   },
   "outputs": [
    {
     "data": {
      "text/plain": [
       "['Chicago', 'Houston', 'Phoenix']"
      ]
     },
     "execution_count": 12,
     "metadata": {},
     "output_type": "execute_result"
    }
   ],
   "source": [
    "top_cities[2:]"
   ]
  },
  {
   "cell_type": "code",
   "execution_count": 13,
   "id": "428b0051-3c08-472f-a846-532f464debea",
   "metadata": {
    "tags": []
   },
   "outputs": [
    {
     "data": {
      "text/plain": [
       "['New York City', 'Los Angeles', 'Chicago']"
      ]
     },
     "execution_count": 13,
     "metadata": {},
     "output_type": "execute_result"
    }
   ],
   "source": [
    "top_cities[:3]"
   ]
  },
  {
   "cell_type": "code",
   "execution_count": 14,
   "id": "8b21ad52-9325-4535-8c8f-db781671c2fc",
   "metadata": {
    "tags": []
   },
   "outputs": [
    {
     "data": {
      "text/plain": [
       "['New York City', 'Los Angeles', 'Chicago', 'Houston', 'Phoenix']"
      ]
     },
     "execution_count": 14,
     "metadata": {},
     "output_type": "execute_result"
    }
   ],
   "source": [
    "top_cities[:]"
   ]
  },
  {
   "cell_type": "code",
   "execution_count": 15,
   "id": "ca3be7f0-60cd-4ada-944d-1ad2a4e78c0b",
   "metadata": {
    "tags": []
   },
   "outputs": [
    {
     "data": {
      "text/plain": [
       "[]"
      ]
     },
     "execution_count": 15,
     "metadata": {},
     "output_type": "execute_result"
    }
   ],
   "source": [
    "top_cities[10:15]"
   ]
  },
  {
   "cell_type": "code",
   "execution_count": 19,
   "id": "0cc58caf-d9ed-402b-a11a-4e5bd4f97be3",
   "metadata": {
    "tags": []
   },
   "outputs": [
    {
     "name": "stdout",
     "output_type": "stream",
     "text": [
      "New York City\n",
      "New York City\n",
      "['New York City', 'Los Angeles', 'Chicago']\n"
     ]
    },
    {
     "ename": "TypeError",
     "evalue": "list indices must be integers or slices, not str",
     "output_type": "error",
     "traceback": [
      "\u001b[0;31m---------------------------------------------------------------------------\u001b[0m",
      "\u001b[0;31mTypeError\u001b[0m                                 Traceback (most recent call last)",
      "Cell \u001b[0;32mIn[19], line 7\u001b[0m\n\u001b[1;32m      5\u001b[0m \u001b[38;5;28mprint\u001b[39m(top_cities[\u001b[38;5;241m-\u001b[39m\u001b[38;5;241m5\u001b[39m])\n\u001b[1;32m      6\u001b[0m \u001b[38;5;28mprint\u001b[39m(top_cities[\u001b[38;5;241m0\u001b[39m:\u001b[38;5;241m3\u001b[39m])\n\u001b[0;32m----> 7\u001b[0m \u001b[38;5;28mprint\u001b[39m(top_cities[\u001b[38;5;124m'\u001b[39m\u001b[38;5;124mNew York City\u001b[39m\u001b[38;5;124m'\u001b[39m])\n",
      "\u001b[0;31mTypeError\u001b[0m: list indices must be integers or slices, not str"
     ]
    }
   ],
   "source": [
    "top_city = 'New York City'\n",
    "top_cities=[]\n",
    "top_cities = ['New York City','Los Angeles','Chicago','Houston','Phoenix']\n",
    "print(top_cities[0])\n",
    "print(top_cities[-5])\n",
    "print(top_cities[0:3])"
   ]
  },
  {
   "cell_type": "code",
   "execution_count": null,
   "id": "9f15b819-b9a1-4f2a-94dc-ee2cbced3005",
   "metadata": {},
   "outputs": [],
   "source": []
  }
 ],
 "metadata": {
  "kernelspec": {
   "display_name": "Python 3 (ipykernel)",
   "language": "python",
   "name": "python3"
  },
  "language_info": {
   "codemirror_mode": {
    "name": "ipython",
    "version": 3
   },
   "file_extension": ".py",
   "mimetype": "text/x-python",
   "name": "python",
   "nbconvert_exporter": "python",
   "pygments_lexer": "ipython3",
   "version": "3.11.5"
  }
 },
 "nbformat": 4,
 "nbformat_minor": 5
}
