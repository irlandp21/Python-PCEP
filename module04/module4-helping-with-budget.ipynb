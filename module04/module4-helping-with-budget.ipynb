{
 "cells": [
  {
   "cell_type": "markdown",
   "id": "65d7646d-77a6-46d8-b6d8-51f69e0e66a0",
   "metadata": {},
   "source": [
    "## Helping with the Budget\n",
    "John has a hard time keeping his budget. Write a program to help him analyse his spendings. You are given a list with John's spendings for each month. Go through the list, and count the number of times...\n",
    "\n",
    "a. the spendings were low (< 1000.0)\n",
    "\n",
    "b. the spendings were normal (between 1000.0 and 2500.0 inclusive)\n",
    "\n",
    "c. the spendings were high (> 2500.0)\n",
    "\n",
    "Then, print the following to the output:\n",
    "\n",
    "Numbers of months with low spendings: {}, normal spendings: {}, high spendings: {}."
   ]
  },
  {
   "cell_type": "code",
   "execution_count": 8,
   "id": "dfe91090-5500-4ccf-919f-6dbf8695e889",
   "metadata": {
    "tags": []
   },
   "outputs": [
    {
     "name": "stdout",
     "output_type": "stream",
     "text": [
      "Numbers of months with low spendings: 1, normal spendings: 5, high spendings: 6.\n"
     ]
    }
   ],
   "source": [
    "spendings = [1346.0, 987.50, 1734.40, 2567.0, 3271.45, 2500.0, 2130.0, 2510.30, 2987.34, 3120.50, 4069.78, 1000.0]\n",
    "spend_low = 0\n",
    "spend_normal = 0\n",
    "spend_high = 0\n",
    "for i in range(len(spendings)):\n",
    "    if spendings[i] < 1000: spend_low+=1\n",
    "    if spendings[i] >= 1000 and spendings[i] <= 2500: spend_normal+=1\n",
    "    if spendings[i] > 2500: spend_high+=1\n",
    "\n",
    "print(\"Numbers of months with low spendings: \",spend_low,\", normal spendings: \",spend_normal,\", high spendings: \",spend_high,\".\",sep=\"\")"
   ]
  },
  {
   "cell_type": "code",
   "execution_count": null,
   "id": "5f0aedb5-537f-4e77-92fb-cdf28ed08ccd",
   "metadata": {},
   "outputs": [],
   "source": []
  }
 ],
 "metadata": {
  "kernelspec": {
   "display_name": "Python 3 (ipykernel)",
   "language": "python",
   "name": "python3"
  },
  "language_info": {
   "codemirror_mode": {
    "name": "ipython",
    "version": 3
   },
   "file_extension": ".py",
   "mimetype": "text/x-python",
   "name": "python",
   "nbconvert_exporter": "python",
   "pygments_lexer": "ipython3",
   "version": "3.11.5"
  }
 },
 "nbformat": 4,
 "nbformat_minor": 5
}
