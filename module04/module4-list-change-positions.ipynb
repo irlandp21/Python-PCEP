{
 "cells": [
  {
   "cell_type": "code",
   "execution_count": 1,
   "id": "5a90bb5c-a7d4-44fc-8759-5f475a567091",
   "metadata": {
    "tags": []
   },
   "outputs": [
    {
     "name": "stdin",
     "output_type": "stream",
     "text": [
      "Enter first number: 2\n",
      "Enter second number:  3\n"
     ]
    },
    {
     "name": "stdout",
     "output_type": "stream",
     "text": [
      "Before swapping: 2 3\n",
      "After swapping: 3 3\n"
     ]
    }
   ],
   "source": [
    "first = input('Enter first number:')\n",
    "second = input(\"Enter second number: \")\n",
    "print(\"Before swapping:\",first,second)\n",
    "first = second\n",
    "second = first\n",
    "print(\"After swapping:\",first,second)\n",
    "\n",
    "               "
   ]
  },
  {
   "cell_type": "code",
   "execution_count": 2,
   "id": "27ff6f12-f689-4fbb-a3d9-19193377d43d",
   "metadata": {
    "tags": []
   },
   "outputs": [
    {
     "name": "stdin",
     "output_type": "stream",
     "text": [
      "Enter first number: 2\n",
      "Enter second number:  3\n"
     ]
    },
    {
     "name": "stdout",
     "output_type": "stream",
     "text": [
      "Before swapping: 2 3\n",
      "After swapping: 3 2\n"
     ]
    }
   ],
   "source": [
    "first = input('Enter first number:')\n",
    "second = input(\"Enter second number: \")\n",
    "print(\"Before swapping:\",first,second)\n",
    "temp = first\n",
    "first = second\n",
    "second = temp\n",
    "print(\"After swapping:\",first,second)"
   ]
  },
  {
   "cell_type": "code",
   "execution_count": 3,
   "id": "2add6691-b067-4bac-83c2-b8a5460155e5",
   "metadata": {
    "tags": []
   },
   "outputs": [
    {
     "name": "stdin",
     "output_type": "stream",
     "text": [
      "Enter first number: 2\n",
      "Enter second number:  3\n"
     ]
    },
    {
     "name": "stdout",
     "output_type": "stream",
     "text": [
      "Before swapping: 2 3\n",
      "After swapping: 3 2\n"
     ]
    }
   ],
   "source": [
    "first = input('Enter first number:')\n",
    "second = input(\"Enter second number: \")\n",
    "print(\"Before swapping:\",first,second)\n",
    "first,second = second,first\n",
    "print(\"After swapping:\",first,second)"
   ]
  },
  {
   "cell_type": "code",
   "execution_count": 4,
   "id": "8197301b-3ff2-46f3-abf7-e1c18ea79247",
   "metadata": {
    "tags": []
   },
   "outputs": [
    {
     "name": "stdout",
     "output_type": "stream",
     "text": [
      "['Phoenix', 'Los Angeles', 'Chicago', 'Houston', 'New York City']\n"
     ]
    }
   ],
   "source": [
    "top_cities = ['New York City','Los Angeles','Chicago','Houston','Phoenix']\n",
    "top_cities[4],top_cities[0] = top_cities[0],top_cities[4]\n",
    "print(top_cities)"
   ]
  },
  {
   "cell_type": "code",
   "execution_count": 5,
   "id": "9e083757-30cf-4e7e-afad-79e70ce65c91",
   "metadata": {
    "tags": []
   },
   "outputs": [
    {
     "name": "stdout",
     "output_type": "stream",
     "text": [
      "['Chicago', 'Houston', 'Los Angeles', 'New York City', 'Phoenix']\n"
     ]
    }
   ],
   "source": [
    "top_cities = ['New York City','Los Angeles','Chicago','Houston','Phoenix']\n",
    "top_cities.sort()\n",
    "print(top_cities)"
   ]
  },
  {
   "cell_type": "code",
   "execution_count": 7,
   "id": "3dc61796-a9a0-41b0-aceb-e2ab22a5a1e0",
   "metadata": {
    "tags": []
   },
   "outputs": [
    {
     "name": "stdout",
     "output_type": "stream",
     "text": [
      "[-3, 0, 2, 4, 5]\n"
     ]
    }
   ],
   "source": [
    "random_numbers = [2,5,0,-3,4]\n",
    "random_numbers.sort()\n",
    "print(random_numbers)"
   ]
  },
  {
   "cell_type": "code",
   "execution_count": 8,
   "id": "0c16cac2-c1bc-41a5-b15c-cac1572a21a9",
   "metadata": {
    "tags": []
   },
   "outputs": [
    {
     "name": "stdout",
     "output_type": "stream",
     "text": [
      "[5, 4, 2, 0, -3]\n"
     ]
    }
   ],
   "source": [
    "random_numbers = [2,5,0,-3,4]\n",
    "random_numbers.sort(reverse=True)\n",
    "print(random_numbers)"
   ]
  },
  {
   "cell_type": "code",
   "execution_count": 9,
   "id": "832c903c-3745-4008-9dc1-93a36eadfc25",
   "metadata": {
    "tags": []
   },
   "outputs": [
    {
     "name": "stdout",
     "output_type": "stream",
     "text": [
      "['Chicago', 'Houston', 'Los Angeles', 'New York City', 'Phoenix']\n"
     ]
    }
   ],
   "source": [
    "top_cities = ['New York City','Los Angeles','Chicago','Houston','Phoenix']\n",
    "print(sorted(top_cities))"
   ]
  },
  {
   "cell_type": "code",
   "execution_count": 10,
   "id": "1fe75612-38c1-401a-9930-d5b693ebd074",
   "metadata": {
    "tags": []
   },
   "outputs": [
    {
     "ename": "TypeError",
     "evalue": "'reverse' is an invalid keyword argument for print()",
     "output_type": "error",
     "traceback": [
      "\u001b[0;31m---------------------------------------------------------------------------\u001b[0m",
      "\u001b[0;31mTypeError\u001b[0m                                 Traceback (most recent call last)",
      "Cell \u001b[0;32mIn[10], line 2\u001b[0m\n\u001b[1;32m      1\u001b[0m top_cities \u001b[38;5;241m=\u001b[39m [\u001b[38;5;124m'\u001b[39m\u001b[38;5;124mNew York City\u001b[39m\u001b[38;5;124m'\u001b[39m,\u001b[38;5;124m'\u001b[39m\u001b[38;5;124mLos Angeles\u001b[39m\u001b[38;5;124m'\u001b[39m,\u001b[38;5;124m'\u001b[39m\u001b[38;5;124mChicago\u001b[39m\u001b[38;5;124m'\u001b[39m,\u001b[38;5;124m'\u001b[39m\u001b[38;5;124mHouston\u001b[39m\u001b[38;5;124m'\u001b[39m,\u001b[38;5;124m'\u001b[39m\u001b[38;5;124mPhoenix\u001b[39m\u001b[38;5;124m'\u001b[39m]\n\u001b[0;32m----> 2\u001b[0m \u001b[38;5;28mprint\u001b[39m(\u001b[38;5;28msorted\u001b[39m(top_cities),reverse\u001b[38;5;241m=\u001b[39m\u001b[38;5;28;01mTrue\u001b[39;00m)\n",
      "\u001b[0;31mTypeError\u001b[0m: 'reverse' is an invalid keyword argument for print()"
     ]
    }
   ],
   "source": [
    "top_cities = ['New York City','Los Angeles','Chicago','Houston','Phoenix']\n",
    "print(sorted(top_cities),reverse=True)"
   ]
  },
  {
   "cell_type": "code",
   "execution_count": null,
   "id": "aa96f8f6-abbe-4612-9512-83564f2616c9",
   "metadata": {},
   "outputs": [],
   "source": []
  }
 ],
 "metadata": {
  "kernelspec": {
   "display_name": "Python 3 (ipykernel)",
   "language": "python",
   "name": "python3"
  },
  "language_info": {
   "codemirror_mode": {
    "name": "ipython",
    "version": 3
   },
   "file_extension": ".py",
   "mimetype": "text/x-python",
   "name": "python",
   "nbconvert_exporter": "python",
   "pygments_lexer": "ipython3",
   "version": "3.11.5"
  }
 },
 "nbformat": 4,
 "nbformat_minor": 5
}
