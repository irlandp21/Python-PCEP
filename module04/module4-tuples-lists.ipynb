{
 "cells": [
  {
   "cell_type": "code",
   "execution_count": 2,
   "id": "0475305e-b8fd-44b9-bd92-4092960e3884",
   "metadata": {
    "tags": []
   },
   "outputs": [],
   "source": [
    "city_1 = ('London','UK',8.98)\n",
    "city_2 = ('Canberra','Australia',0.4)\n",
    "city_3 = ('Algiers','Algeria',3.9)\n",
    "\n"
   ]
  },
  {
   "cell_type": "code",
   "execution_count": 3,
   "id": "91e7c50f-e444-4c41-b031-b2802f92bd54",
   "metadata": {
    "tags": []
   },
   "outputs": [],
   "source": [
    "capitals = [('London','UK',8.98),('Canberra','Australia',0.4),('Algiers','Algeria',3.9)]"
   ]
  },
  {
   "cell_type": "code",
   "execution_count": 4,
   "id": "5ae18ddc-0e35-402c-9778-66784f9e9342",
   "metadata": {
    "tags": []
   },
   "outputs": [
    {
     "name": "stdout",
     "output_type": "stream",
     "text": [
      "[('London', 'UK', 8.98), ('Canberra', 'Australia', 0.4), ('Algiers', 'Algeria', 3.9)]\n"
     ]
    }
   ],
   "source": [
    "print(capitals)"
   ]
  },
  {
   "cell_type": "code",
   "execution_count": 5,
   "id": "b7d5b5db-7fc6-428f-98b2-5fe532422341",
   "metadata": {
    "tags": []
   },
   "outputs": [
    {
     "name": "stdout",
     "output_type": "stream",
     "text": [
      "Name: London Country: UK Population: 8.98\n",
      "Name: Canberra Country: Australia Population: 0.4\n",
      "Name: Algiers Country: Algeria Population: 3.9\n"
     ]
    }
   ],
   "source": [
    "for capital in capitals:\n",
    "    print(\"Name:\",capital[0],'Country:',capital[1],\"Population:\",capital[2])"
   ]
  },
  {
   "cell_type": "code",
   "execution_count": 6,
   "id": "34bcc1dd-a9d9-4ef4-9a21-fda5f153c712",
   "metadata": {
    "tags": []
   },
   "outputs": [],
   "source": [
    "user_data = ('John','American',1964,[77.0,78.2,77.5])"
   ]
  },
  {
   "cell_type": "code",
   "execution_count": 7,
   "id": "fd501fa4-9cad-423a-8981-32ba5de8f357",
   "metadata": {
    "tags": []
   },
   "outputs": [],
   "source": [
    "user_data[3].append(80.0)"
   ]
  },
  {
   "cell_type": "code",
   "execution_count": 8,
   "id": "963613c0-ee3d-4e5c-8b70-02a1dfafb1fa",
   "metadata": {
    "tags": []
   },
   "outputs": [
    {
     "name": "stdout",
     "output_type": "stream",
     "text": [
      "('John', 'American', 1964, [77.0, 78.2, 77.5, 80.0])\n"
     ]
    }
   ],
   "source": [
    "print(user_data)"
   ]
  },
  {
   "cell_type": "code",
   "execution_count": null,
   "id": "bc5d5cc7-3f12-4b78-a0e1-b42da3065676",
   "metadata": {},
   "outputs": [],
   "source": []
  }
 ],
 "metadata": {
  "kernelspec": {
   "display_name": "Python 3 (ipykernel)",
   "language": "python",
   "name": "python3"
  },
  "language_info": {
   "codemirror_mode": {
    "name": "ipython",
    "version": 3
   },
   "file_extension": ".py",
   "mimetype": "text/x-python",
   "name": "python",
   "nbconvert_exporter": "python",
   "pygments_lexer": "ipython3",
   "version": "3.11.5"
  }
 },
 "nbformat": 4,
 "nbformat_minor": 5
}
