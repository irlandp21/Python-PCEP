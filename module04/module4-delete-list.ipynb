{
 "cells": [
  {
   "cell_type": "code",
   "execution_count": 2,
   "id": "7e07fd7b-d838-4b7e-9b69-37ab99766675",
   "metadata": {
    "tags": []
   },
   "outputs": [],
   "source": [
    "# create a list and print it\n",
    "top_cities = ['New York City','Los Angeles','Singapore','Chicago','Houston','Phoenix']\n",
    "print(top_cities)"
   ]
  },
  {
   "cell_type": "code",
   "execution_count": 4,
   "id": "38ac5a56-9507-46a1-9126-efa84271bc48",
   "metadata": {
    "tags": []
   },
   "outputs": [],
   "source": [
    "# Delete element at index 2\n",
    "del top_cities[2]\n",
    "print(top_cities)"
   ]
  },
  {
   "cell_type": "code",
   "execution_count": 6,
   "id": "0d8a4bac-de5f-416b-9fd1-4c8d4a522ba5",
   "metadata": {
    "tags": []
   },
   "outputs": [],
   "source": [
    "# Delete all values from index 3\n",
    "del top_cities[3:]\n",
    "print(top_cities)"
   ]
  },
  {
   "cell_type": "code",
   "execution_count": 8,
   "id": "ea80a60d-5352-42a2-b049-da37a5be9c42",
   "metadata": {
    "tags": []
   },
   "outputs": [],
   "source": [
    "#delete all values in the list\n",
    "top_cities = ['New York City','Los Angeles','Singapore','Chicago','Houston','Phoenix']\n",
    "del top_cities[:]\n",
    "print(top_cities)"
   ]
  },
  {
   "cell_type": "code",
   "execution_count": 10,
   "id": "0c7cf1b5-7552-47ef-a8ed-95e031f8413d",
   "metadata": {
    "tags": []
   },
   "outputs": [
    {
     "ename": "NameError",
     "evalue": "name 'top_cities' is not defined",
     "output_type": "error",
     "traceback": [
      "\u001b[0;31m---------------------------------------------------------------------------\u001b[0m",
      "\u001b[0;31mNameError\u001b[0m                                 Traceback (most recent call last)",
      "Cell \u001b[0;32mIn[10], line 3\u001b[0m\n\u001b[1;32m      1\u001b[0m top_cities \u001b[38;5;241m=\u001b[39m [\u001b[38;5;124m'\u001b[39m\u001b[38;5;124mNew York City\u001b[39m\u001b[38;5;124m'\u001b[39m,\u001b[38;5;124m'\u001b[39m\u001b[38;5;124mLos Angeles\u001b[39m\u001b[38;5;124m'\u001b[39m,\u001b[38;5;124m'\u001b[39m\u001b[38;5;124mSingapore\u001b[39m\u001b[38;5;124m'\u001b[39m,\u001b[38;5;124m'\u001b[39m\u001b[38;5;124mChicago\u001b[39m\u001b[38;5;124m'\u001b[39m,\u001b[38;5;124m'\u001b[39m\u001b[38;5;124mHouston\u001b[39m\u001b[38;5;124m'\u001b[39m,\u001b[38;5;124m'\u001b[39m\u001b[38;5;124mPhoenix\u001b[39m\u001b[38;5;124m'\u001b[39m]\n\u001b[1;32m      2\u001b[0m \u001b[38;5;28;01mdel\u001b[39;00m top_cities\n\u001b[0;32m----> 3\u001b[0m \u001b[38;5;28mprint\u001b[39m(top_cities)\n",
      "\u001b[0;31mNameError\u001b[0m: name 'top_cities' is not defined"
     ]
    }
   ],
   "source": [
    "# Delete the list\n",
    "top_cities = ['New York City','Los Angeles','Singapore','Chicago','Houston','Phoenix']\n",
    "del top_cities\n",
    "print(top_cities)"
   ]
  },
  {
   "cell_type": "code",
   "execution_count": null,
   "id": "aba9031c-a7f5-4feb-90e4-ccfd571c093b",
   "metadata": {},
   "outputs": [],
   "source": []
  }
 ],
 "metadata": {
  "kernelspec": {
   "display_name": "Python 3 (ipykernel)",
   "language": "python",
   "name": "python3"
  },
  "language_info": {
   "codemirror_mode": {
    "name": "ipython",
    "version": 3
   },
   "file_extension": ".py",
   "mimetype": "text/x-python",
   "name": "python",
   "nbconvert_exporter": "python",
   "pygments_lexer": "ipython3",
   "version": "3.11.5"
  }
 },
 "nbformat": 4,
 "nbformat_minor": 5
}
