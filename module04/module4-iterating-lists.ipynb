{
 "cells": [
  {
   "cell_type": "code",
   "execution_count": 1,
   "id": "286e9fde-b400-46bb-ad62-ea278bb6a8da",
   "metadata": {
    "tags": []
   },
   "outputs": [
    {
     "name": "stdout",
     "output_type": "stream",
     "text": [
      "Current city: New York City\n",
      "Current city: Los Angeles\n",
      "Current city: Chicago\n",
      "Current city: Houston\n",
      "Current city: Phoenix\n"
     ]
    }
   ],
   "source": [
    "# Regular for loop\n",
    "top_cities = ['New York City','Los Angeles','Chicago','Houston','Phoenix']\n",
    "for city in top_cities:\n",
    "    print(\"Current city:\",city)"
   ]
  },
  {
   "cell_type": "code",
   "execution_count": 3,
   "id": "43f88520-3a14-416c-a3f7-5c2bb736f9da",
   "metadata": {
    "tags": []
   },
   "outputs": [
    {
     "name": "stdout",
     "output_type": "stream",
     "text": [
      "Current index: 0 | New York City\n",
      "Current index: 1 | Los Angeles\n",
      "Current index: 2 | Chicago\n",
      "Current index: 3 | Houston\n",
      "Current index: 4 | Phoenix\n"
     ]
    }
   ],
   "source": [
    "# Iterate with index\n",
    "top_cities = ['New York City','Los Angeles','Chicago','Houston','Phoenix']\n",
    "for i in range(len(top_cities)):\n",
    "    print(\"Current index:\",i,\"|\",top_cities[i])"
   ]
  },
  {
   "cell_type": "code",
   "execution_count": 6,
   "id": "f4ec05c9-0952-4936-9f0e-acf01e1c826b",
   "metadata": {
    "tags": []
   },
   "outputs": [
    {
     "name": "stdout",
     "output_type": "stream",
     "text": [
      "Sum = 158.1\n"
     ]
    }
   ],
   "source": [
    "spendings = [32.45,18.65,23.45,78.32,5.23]\n",
    "sum = 0.0\n",
    "for i in range(len(spendings)):\n",
    "    sum+=spendings[i]\n",
    "print(\"Sum =\",sum)"
   ]
  },
  {
   "cell_type": "code",
   "execution_count": null,
   "id": "1aa07d92-1bac-4d46-bec2-1c13b851d3e6",
   "metadata": {},
   "outputs": [],
   "source": []
  }
 ],
 "metadata": {
  "kernelspec": {
   "display_name": "Python 3 (ipykernel)",
   "language": "python",
   "name": "python3"
  },
  "language_info": {
   "codemirror_mode": {
    "name": "ipython",
    "version": 3
   },
   "file_extension": ".py",
   "mimetype": "text/x-python",
   "name": "python",
   "nbconvert_exporter": "python",
   "pygments_lexer": "ipython3",
   "version": "3.11.5"
  }
 },
 "nbformat": 4,
 "nbformat_minor": 5
}
