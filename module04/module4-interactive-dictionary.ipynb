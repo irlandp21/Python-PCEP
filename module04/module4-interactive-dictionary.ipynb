{
 "cells": [
  {
   "cell_type": "markdown",
   "id": "f92b2e7f-bdea-42c8-8b8e-58919b8726de",
   "metadata": {},
   "source": [
    "## Interactive Dictionary\n",
    "Write a program that implements a simple interactive dictionary. Start by prompting the user with the following:\n",
    "\n",
    "Enter a word in English or EXIT: << put a space at the end of this message\n",
    "\n",
    "When the user enters EXIT in capital letters, terminate the program with the following:\n",
    "\n",
    "Bye!\n",
    "\n",
    "Otherwise, try to find the German equivalent in the dictionary provided in the exercise.\n",
    "\n",
    "a. if the word is in the dictionary, print: Translation: {} << replace {} with the word from the dictionary\n",
    "b. if the word is not in the dictionary, print: No match!\n",
    "\n",
    "You should keep asking the user for new words with the same prompt ('Enter a word in English or EXIT: ') until the user provides EXIT.\n",
    "\n",
    "Here's an example of how the program could work with user input shown in the bold:\n",
    "\n",
    "Enter a word in English or EXIT: dog\n",
    "No match!\n",
    "\n",
    "Enter a word in English or EXIT: face\n",
    "Translation: Gesicht\n",
    "\n",
    "Enter a word in English or EXIT: EXIT\n",
    "Bye!"
   ]
  },
  {
   "cell_type": "code",
   "execution_count": 1,
   "id": "cf8c83b5-99b3-4cf8-98a2-c20951962aef",
   "metadata": {
    "tags": []
   },
   "outputs": [],
   "source": [
    "sample_dict = {\n",
    "    \"mouth\": \"Mund\",\n",
    "    \"finger\": \"Finger\",\n",
    "    \"leg\": \"Bein\",\n",
    "    \"hand\": \"Hand\",\n",
    "    \"face\": \"Gesicht\",\n",
    "    \"nose\": \"Nase\"\n",
    "}"
   ]
  },
  {
   "cell_type": "code",
   "execution_count": 4,
   "id": "5ef632c9-c044-42ec-926a-a44b9f7045c4",
   "metadata": {
    "tags": []
   },
   "outputs": [
    {
     "name": "stdin",
     "output_type": "stream",
     "text": [
      "Enter a word in English or EXIT:  d\n"
     ]
    },
    {
     "name": "stdout",
     "output_type": "stream",
     "text": [
      "No match!\n"
     ]
    },
    {
     "name": "stdin",
     "output_type": "stream",
     "text": [
      "Enter a word in English or EXIT:  leg\n"
     ]
    },
    {
     "name": "stdout",
     "output_type": "stream",
     "text": [
      "Translation: Bein\n"
     ]
    },
    {
     "name": "stdin",
     "output_type": "stream",
     "text": [
      "Enter a word in English or EXIT:  EXIT\n"
     ]
    },
    {
     "name": "stdout",
     "output_type": "stream",
     "text": [
      "Bye!\n"
     ]
    }
   ],
   "source": [
    "while(True):\n",
    "    word = input('Enter a word in English or EXIT: ')\n",
    "    if word == 'EXIT':\n",
    "        break\n",
    "    elif word in sample_dict:\n",
    "        print('Translation:',sample_dict[word]) \n",
    "    else:\n",
    "        print('No match!')\n",
    "print('Bye!')"
   ]
  },
  {
   "cell_type": "code",
   "execution_count": null,
   "id": "c5a8a371-5cc7-4f00-9bd0-c8a0b2895850",
   "metadata": {},
   "outputs": [],
   "source": []
  }
 ],
 "metadata": {
  "kernelspec": {
   "display_name": "Python 3 (ipykernel)",
   "language": "python",
   "name": "python3"
  },
  "language_info": {
   "codemirror_mode": {
    "name": "ipython",
    "version": 3
   },
   "file_extension": ".py",
   "mimetype": "text/x-python",
   "name": "python",
   "nbconvert_exporter": "python",
   "pygments_lexer": "ipython3",
   "version": "3.11.5"
  }
 },
 "nbformat": 4,
 "nbformat_minor": 5
}
