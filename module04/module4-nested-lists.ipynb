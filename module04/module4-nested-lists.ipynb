{
 "cells": [
  {
   "cell_type": "code",
   "execution_count": 1,
   "id": "ffcb0945-deeb-439c-8c53-3b9406696a7a",
   "metadata": {
    "tags": []
   },
   "outputs": [
    {
     "name": "stdout",
     "output_type": "stream",
     "text": [
      "[1, 2, 3, 4]\n"
     ]
    }
   ],
   "source": [
    "numbers = [1,2,3,4]\n",
    "print(numbers)"
   ]
  },
  {
   "cell_type": "code",
   "execution_count": 2,
   "id": "06b40eea-c242-49f1-9a67-2a428852955b",
   "metadata": {
    "tags": []
   },
   "outputs": [
    {
     "name": "stdout",
     "output_type": "stream",
     "text": [
      "['UK', 'US', 'Germany']\n"
     ]
    }
   ],
   "source": [
    "countries = ['UK','US','Germany']\n",
    "print(countries)"
   ]
  },
  {
   "cell_type": "code",
   "execution_count": 3,
   "id": "bcedd2b7-9b11-4ec3-909e-05d270beeb5b",
   "metadata": {
    "tags": []
   },
   "outputs": [
    {
     "name": "stdout",
     "output_type": "stream",
     "text": [
      "[1, 'UK', 'US', 'Germany']\n"
     ]
    }
   ],
   "source": [
    "countries = [1,'UK','US','Germany']\n",
    "print(countries)"
   ]
  },
  {
   "cell_type": "code",
   "execution_count": 4,
   "id": "7c413ffd-7c29-4668-860e-0c6b1ae784fc",
   "metadata": {
    "tags": []
   },
   "outputs": [
    {
     "name": "stdout",
     "output_type": "stream",
     "text": [
      "[['A1', 'A2', 'A3'], ['B1', 'B2', 'B3']]\n"
     ]
    }
   ],
   "source": [
    "cells = [['A1','A2','A3'],['B1','B2','B3']]\n",
    "print(cells)"
   ]
  },
  {
   "cell_type": "code",
   "execution_count": 5,
   "id": "2a86fe48-9137-4423-b67f-e6ce2629b060",
   "metadata": {
    "tags": []
   },
   "outputs": [
    {
     "data": {
      "text/plain": [
       "['A1', 'A2', 'A3']"
      ]
     },
     "execution_count": 5,
     "metadata": {},
     "output_type": "execute_result"
    }
   ],
   "source": [
    "cells[0]"
   ]
  },
  {
   "cell_type": "code",
   "execution_count": 6,
   "id": "095e1f91-0ab8-4402-9a51-c836023bd383",
   "metadata": {
    "tags": []
   },
   "outputs": [
    {
     "data": {
      "text/plain": [
       "'A1'"
      ]
     },
     "execution_count": 6,
     "metadata": {},
     "output_type": "execute_result"
    }
   ],
   "source": [
    "cells[0][0]"
   ]
  },
  {
   "cell_type": "code",
   "execution_count": 7,
   "id": "4f95f66b-97fd-44e0-8559-511ae5907f92",
   "metadata": {
    "tags": []
   },
   "outputs": [
    {
     "name": "stdout",
     "output_type": "stream",
     "text": [
      "['A1', 'A2', 'A3']\n",
      "['B1', 'B2', 'B3']\n"
     ]
    }
   ],
   "source": [
    "for x in cells:\n",
    "    print(x)"
   ]
  },
  {
   "cell_type": "code",
   "execution_count": 8,
   "id": "4cccc81c-37ba-4867-b14d-cee6d667dfd9",
   "metadata": {
    "tags": []
   },
   "outputs": [
    {
     "name": "stdout",
     "output_type": "stream",
     "text": [
      "A1\n",
      "A2\n",
      "A3\n",
      "B1\n",
      "B2\n",
      "B3\n"
     ]
    }
   ],
   "source": [
    "for x in cells:\n",
    "    for y in x:\n",
    "        print(y)"
   ]
  },
  {
   "cell_type": "code",
   "execution_count": 9,
   "id": "bdfdad42-db2b-4829-9e12-e1a7b30c85cf",
   "metadata": {
    "tags": []
   },
   "outputs": [
    {
     "name": "stdout",
     "output_type": "stream",
     "text": [
      "A1\n",
      "A2\n",
      "A3\n",
      "B1\n",
      "B2\n",
      "B3\n",
      "[['A1', 'A2', 'A3'], ['B1', 'B2', 'B3']]\n"
     ]
    }
   ],
   "source": [
    "table = [['A1','A2','A3'],['B1','B2','B3']]\n",
    "for row in cells:\n",
    "    for cell in row:\n",
    "        print(cell)\n",
    "# print(cells)"
   ]
  },
  {
   "cell_type": "code",
   "execution_count": 12,
   "id": "a6192276-3ba6-49fa-8f98-cfacd178630d",
   "metadata": {
    "tags": []
   },
   "outputs": [
    {
     "ename": "SyntaxError",
     "evalue": "invalid syntax (3310306544.py, line 1)",
     "output_type": "error",
     "traceback": [
      "\u001b[0;36m  Cell \u001b[0;32mIn[12], line 1\u001b[0;36m\u001b[0m\n\u001b[0;31m    table = [i for i in range(1,6)][j for j in range(1,6)]\u001b[0m\n\u001b[0m                                      ^\u001b[0m\n\u001b[0;31mSyntaxError\u001b[0m\u001b[0;31m:\u001b[0m invalid syntax\n"
     ]
    }
   ],
   "source": [
    "table = [i for i in range(1,6)]\n",
    "print(table)"
   ]
  },
  {
   "cell_type": "code",
   "execution_count": 15,
   "id": "0af3a55a-5b55-4b3a-a4a2-5860f5c9df96",
   "metadata": {
    "tags": []
   },
   "outputs": [
    {
     "name": "stdout",
     "output_type": "stream",
     "text": [
      "[[1, 2, 3, 4, 5], [1, 2, 3, 4, 5], [1, 2, 3, 4, 5], [1, 2, 3, 4, 5], [1, 2, 3, 4, 5]]\n"
     ]
    }
   ],
   "source": [
    "table = [[i for i in range(1,6)] for j in range(1,6)]\n",
    "print(table)"
   ]
  },
  {
   "cell_type": "code",
   "execution_count": null,
   "id": "34539ff5-e69e-4a9f-8eee-da1fd2e654b0",
   "metadata": {},
   "outputs": [],
   "source": []
  }
 ],
 "metadata": {
  "kernelspec": {
   "display_name": "Python 3 (ipykernel)",
   "language": "python",
   "name": "python3"
  },
  "language_info": {
   "codemirror_mode": {
    "name": "ipython",
    "version": 3
   },
   "file_extension": ".py",
   "mimetype": "text/x-python",
   "name": "python",
   "nbconvert_exporter": "python",
   "pygments_lexer": "ipython3",
   "version": "3.11.5"
  }
 },
 "nbformat": 4,
 "nbformat_minor": 5
}
