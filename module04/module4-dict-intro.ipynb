{
 "cells": [
  {
   "cell_type": "code",
   "execution_count": 4,
   "id": "d67f9e6b-b8f3-4b24-991f-4326f294bc7a",
   "metadata": {
    "tags": []
   },
   "outputs": [],
   "source": [
    "emails = {\n",
    "    'Anne Stahl': 'astahl@gmail.com',\n",
    "    'Peter Small': 'peters@yandex.com',\n",
    "    'Mark Steel': 'mark@steel.com'\n",
    "}"
   ]
  },
  {
   "cell_type": "code",
   "execution_count": 5,
   "id": "99bb0786-9b03-4357-937c-a64738d1aaec",
   "metadata": {
    "tags": []
   },
   "outputs": [
    {
     "name": "stdout",
     "output_type": "stream",
     "text": [
      "mark@steel.com\n"
     ]
    }
   ],
   "source": [
    "print(emails['Mark Steel'])"
   ]
  },
  {
   "cell_type": "code",
   "execution_count": 6,
   "id": "c618e2a2-80a4-401b-956f-12a071f46af1",
   "metadata": {
    "tags": []
   },
   "outputs": [],
   "source": [
    "spanish_animals = {\n",
    "    'dog': 'el perro',\n",
    "    'cat': 'el gato',\n",
    "    'horse': 'el caballo',\n",
    "    'bird': 'el pajaro'\n",
    "}"
   ]
  },
  {
   "cell_type": "code",
   "execution_count": 7,
   "id": "a68676a5-5d9a-4cee-8cec-3b0b1dcc543c",
   "metadata": {
    "tags": []
   },
   "outputs": [
    {
     "name": "stdout",
     "output_type": "stream",
     "text": [
      "el pajaro\n"
     ]
    }
   ],
   "source": [
    "print(spanish_animals['bird'])"
   ]
  },
  {
   "cell_type": "code",
   "execution_count": 8,
   "id": "07093809-6561-4bc7-91e1-10a62b01ebe8",
   "metadata": {
    "tags": []
   },
   "outputs": [],
   "source": [
    "spanish_animals = {\n",
    "    'dog': 'el perro',\n",
    "    'cat': 'el gato',\n",
    "    'horse': 'el caballo',\n",
    "    'bird': 'el pajaro',\n",
    "    'bird': 'el ave'\n",
    "}"
   ]
  },
  {
   "cell_type": "code",
   "execution_count": 9,
   "id": "3abe67d7-7dda-49e9-851e-641943c4ce84",
   "metadata": {
    "tags": []
   },
   "outputs": [
    {
     "name": "stdout",
     "output_type": "stream",
     "text": [
      "{'dog': 'el perro', 'cat': 'el gato', 'horse': 'el caballo', 'bird': 'el ave'}\n"
     ]
    }
   ],
   "source": [
    "print(spanish_animals)"
   ]
  },
  {
   "cell_type": "code",
   "execution_count": 13,
   "id": "f13c12ff-526f-4fcf-bba6-9b240d76ac8a",
   "metadata": {
    "tags": []
   },
   "outputs": [],
   "source": [
    "tennis_ranking = {\n",
    "    1: 'Ashley Barty',\n",
    "    2: 'Naomi Osaka',\n",
    "    3: 'Simona Halep'\n",
    "}"
   ]
  },
  {
   "cell_type": "code",
   "execution_count": 16,
   "id": "3e4943d0-e806-444e-af1f-615a88d1a0b8",
   "metadata": {
    "tags": []
   },
   "outputs": [
    {
     "ename": "KeyError",
     "evalue": "6",
     "output_type": "error",
     "traceback": [
      "\u001b[0;31m---------------------------------------------------------------------------\u001b[0m",
      "\u001b[0;31mKeyError\u001b[0m                                  Traceback (most recent call last)",
      "Cell \u001b[0;32mIn[16], line 1\u001b[0m\n\u001b[0;32m----> 1\u001b[0m \u001b[38;5;28mprint\u001b[39m(tennis_ranking[\u001b[38;5;241m6\u001b[39m])\n",
      "\u001b[0;31mKeyError\u001b[0m: 6"
     ]
    }
   ],
   "source": [
    "print(tennis_ranking[6])"
   ]
  },
  {
   "cell_type": "code",
   "execution_count": 17,
   "id": "2439024e-43c7-4ea7-8edf-832b4e451fa0",
   "metadata": {
    "tags": []
   },
   "outputs": [],
   "source": [
    "city_ratings = {\n",
    "    'Bangkok':[7,6,7,5],\n",
    "    'Hanoi':[7,6,4,5],\n",
    "    'Manila':[6,6,4,4,5]\n",
    "}"
   ]
  },
  {
   "cell_type": "code",
   "execution_count": 19,
   "id": "ffe0a443-10c2-4e37-bfbe-7d0c796542cd",
   "metadata": {
    "tags": []
   },
   "outputs": [
    {
     "name": "stdout",
     "output_type": "stream",
     "text": [
      "{'Bangkok': [7, 6, 7, 5], 'Hanoi': [7, 6, 4, 5], 'Manila': [6, 6, 4, 4, 5]}\n"
     ]
    }
   ],
   "source": [
    "print(city_ratings)"
   ]
  },
  {
   "cell_type": "code",
   "execution_count": null,
   "id": "98a74c75-55c0-42ed-904e-4c6b91982bed",
   "metadata": {},
   "outputs": [],
   "source": []
  }
 ],
 "metadata": {
  "kernelspec": {
   "display_name": "Python 3 (ipykernel)",
   "language": "python",
   "name": "python3"
  },
  "language_info": {
   "codemirror_mode": {
    "name": "ipython",
    "version": 3
   },
   "file_extension": ".py",
   "mimetype": "text/x-python",
   "name": "python",
   "nbconvert_exporter": "python",
   "pygments_lexer": "ipython3",
   "version": "3.11.5"
  }
 },
 "nbformat": 4,
 "nbformat_minor": 5
}
