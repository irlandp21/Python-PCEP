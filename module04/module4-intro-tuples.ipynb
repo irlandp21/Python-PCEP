{
 "cells": [
  {
   "cell_type": "code",
   "execution_count": 1,
   "id": "2348cb5e-7c97-48f9-ae01-ae6eaf36dab2",
   "metadata": {
    "tags": []
   },
   "outputs": [],
   "source": [
    "empty_tuple = ()"
   ]
  },
  {
   "cell_type": "code",
   "execution_count": 2,
   "id": "7634afae-3bc5-43de-bd4a-2dea8bc0cc2e",
   "metadata": {
    "tags": []
   },
   "outputs": [],
   "source": [
    "one_el_tuple_a = (1,)"
   ]
  },
  {
   "cell_type": "code",
   "execution_count": 3,
   "id": "6e0d62c5-f52a-4bed-8dd2-4471b44f9387",
   "metadata": {
    "tags": []
   },
   "outputs": [],
   "source": [
    "one_el_tuple_b = 1,"
   ]
  },
  {
   "cell_type": "code",
   "execution_count": 6,
   "id": "2a421f18-27de-4a45-b8a2-684df357fc35",
   "metadata": {
    "tags": []
   },
   "outputs": [],
   "source": [
    "three_el_tuple = 1,2,3,"
   ]
  },
  {
   "cell_type": "code",
   "execution_count": 7,
   "id": "9c2257bb-49e0-4b2a-bfc3-5a82de78480f",
   "metadata": {
    "tags": []
   },
   "outputs": [
    {
     "name": "stdout",
     "output_type": "stream",
     "text": [
      "(1, 2, 3)\n"
     ]
    }
   ],
   "source": [
    "print(three_el_tuple)"
   ]
  },
  {
   "cell_type": "code",
   "execution_count": 8,
   "id": "45b3c9c8-30dc-4a28-8a75-edcd5abfd8eb",
   "metadata": {
    "tags": []
   },
   "outputs": [],
   "source": [
    "user_data = ('John','American','1964')"
   ]
  },
  {
   "cell_type": "code",
   "execution_count": 9,
   "id": "573d633c-f6ac-4cfb-8823-5608692fc28a",
   "metadata": {
    "tags": []
   },
   "outputs": [],
   "source": [
    "user_data = ('Katya','Russian','1980')"
   ]
  },
  {
   "cell_type": "code",
   "execution_count": 10,
   "id": "7a7480a3-ad47-4c48-bbc8-b35ce0ce9509",
   "metadata": {
    "tags": []
   },
   "outputs": [
    {
     "ename": "AttributeError",
     "evalue": "'tuple' object has no attribute 'append'",
     "output_type": "error",
     "traceback": [
      "\u001b[0;31m---------------------------------------------------------------------------\u001b[0m",
      "\u001b[0;31mAttributeError\u001b[0m                            Traceback (most recent call last)",
      "Cell \u001b[0;32mIn[10], line 1\u001b[0m\n\u001b[0;32m----> 1\u001b[0m user_data\u001b[38;5;241m.\u001b[39mappend(\u001b[38;5;124m'\u001b[39m\u001b[38;5;124mteacher\u001b[39m\u001b[38;5;124m'\u001b[39m)\n",
      "\u001b[0;31mAttributeError\u001b[0m: 'tuple' object has no attribute 'append'"
     ]
    }
   ],
   "source": [
    "user_data.append('teacher')"
   ]
  },
  {
   "cell_type": "code",
   "execution_count": null,
   "id": "23f19aec-33b2-4168-8094-e758a24fb30f",
   "metadata": {},
   "outputs": [],
   "source": []
  }
 ],
 "metadata": {
  "kernelspec": {
   "display_name": "Python 3 (ipykernel)",
   "language": "python",
   "name": "python3"
  },
  "language_info": {
   "codemirror_mode": {
    "name": "ipython",
    "version": 3
   },
   "file_extension": ".py",
   "mimetype": "text/x-python",
   "name": "python",
   "nbconvert_exporter": "python",
   "pygments_lexer": "ipython3",
   "version": "3.11.5"
  }
 },
 "nbformat": 4,
 "nbformat_minor": 5
}
