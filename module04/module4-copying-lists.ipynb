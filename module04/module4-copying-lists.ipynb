{
 "cells": [
  {
   "cell_type": "code",
   "execution_count": 1,
   "id": "8055fbb9-a76f-4e24-905a-09f6bfb439e0",
   "metadata": {
    "tags": []
   },
   "outputs": [
    {
     "name": "stdout",
     "output_type": "stream",
     "text": [
      "Daenerys Targaryen Jon Snow\n"
     ]
    }
   ],
   "source": [
    "name_original = 'Jon Snow'\n",
    "name_new = name_original\n",
    "name_original = 'Daenerys Targaryen'\n",
    "print(name_original,name_new)"
   ]
  },
  {
   "cell_type": "code",
   "execution_count": 2,
   "id": "25df8431-8b2c-412e-ba74-f79d66159f61",
   "metadata": {
    "tags": []
   },
   "outputs": [
    {
     "name": "stdout",
     "output_type": "stream",
     "text": [
      "Original: [-5, 2, 3] List New: [-5, 2, 3]\n"
     ]
    }
   ],
   "source": [
    "list_original = [1,2,3]\n",
    "list_new = list_original\n",
    "list_original[0] = -5\n",
    "print('Original:',list_original,'List New:',list_new)"
   ]
  },
  {
   "cell_type": "code",
   "execution_count": 3,
   "id": "76aad77e-9a4e-42ca-879b-4e4858c1e16c",
   "metadata": {
    "tags": []
   },
   "outputs": [
    {
     "name": "stdout",
     "output_type": "stream",
     "text": [
      "Original: [-5, 2, 3] List New: [1, 2, 3]\n"
     ]
    }
   ],
   "source": [
    "list_original = [1,2,3]\n",
    "list_new = list_original[:]\n",
    "list_original[0] = -5\n",
    "print('Original:',list_original,'List New:',list_new)"
   ]
  },
  {
   "cell_type": "code",
   "execution_count": 4,
   "id": "a5c74a79-a586-4af5-b0e3-4e9f6caa3170",
   "metadata": {
    "tags": []
   },
   "outputs": [
    {
     "name": "stdout",
     "output_type": "stream",
     "text": [
      "Original: [-5, 2, 3] List New: [1, 2]\n"
     ]
    }
   ],
   "source": [
    "list_original = [1,2,3]\n",
    "list_new = list_original[:2]\n",
    "list_original[0] = -5\n",
    "print('Original:',list_original,'List New:',list_new)"
   ]
  },
  {
   "cell_type": "code",
   "execution_count": 7,
   "id": "afd4c707-9c62-4ea0-b241-80c624172e77",
   "metadata": {
    "tags": []
   },
   "outputs": [
    {
     "name": "stdout",
     "output_type": "stream",
     "text": [
      "Original: [1, 2, 3] List New: [1, 2, 3]\n"
     ]
    }
   ],
   "source": [
    "list_original = [1,2,3]\n",
    "list_new = list_original\n",
    "print('Original:',list_original,'List New:',list_new)"
   ]
  },
  {
   "cell_type": "code",
   "execution_count": 8,
   "id": "b6a2d96e-dba7-4458-865c-381768e8a9cb",
   "metadata": {
    "tags": []
   },
   "outputs": [
    {
     "name": "stdout",
     "output_type": "stream",
     "text": [
      "Original: [1, 2, 3] List New: [1, 2, 3]\n"
     ]
    }
   ],
   "source": [
    "list_original = [1,2,3]\n",
    "list_new = list_original[:]\n",
    "print('Original:',list_original,'List New:',list_new)"
   ]
  },
  {
   "cell_type": "code",
   "execution_count": null,
   "id": "63f0737d-4b89-4d19-9eb2-a45a7793d70b",
   "metadata": {},
   "outputs": [],
   "source": []
  }
 ],
 "metadata": {
  "kernelspec": {
   "display_name": "Python 3 (ipykernel)",
   "language": "python",
   "name": "python3"
  },
  "language_info": {
   "codemirror_mode": {
    "name": "ipython",
    "version": 3
   },
   "file_extension": ".py",
   "mimetype": "text/x-python",
   "name": "python",
   "nbconvert_exporter": "python",
   "pygments_lexer": "ipython3",
   "version": "3.11.5"
  }
 },
 "nbformat": 4,
 "nbformat_minor": 5
}
