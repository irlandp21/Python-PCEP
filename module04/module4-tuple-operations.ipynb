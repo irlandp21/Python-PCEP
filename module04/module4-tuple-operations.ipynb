{
 "cells": [
  {
   "cell_type": "code",
   "execution_count": 1,
   "id": "402e2fc9-ad80-45b1-a84f-de06a0702e50",
   "metadata": {
    "tags": []
   },
   "outputs": [
    {
     "name": "stdout",
     "output_type": "stream",
     "text": [
      "3\n"
     ]
    }
   ],
   "source": [
    "user_data = ('John','American',1964)\n",
    "print(len(user_data))"
   ]
  },
  {
   "cell_type": "code",
   "execution_count": 2,
   "id": "d5517355-f35c-4ed7-843a-076859258433",
   "metadata": {
    "tags": []
   },
   "outputs": [
    {
     "name": "stdout",
     "output_type": "stream",
     "text": [
      "This person comes from the US!\n"
     ]
    }
   ],
   "source": [
    "user_data = ('John','American',1964)\n",
    "if 'American' in user_data:\n",
    "    print('This person comes from the US!')"
   ]
  },
  {
   "cell_type": "code",
   "execution_count": 4,
   "id": "1822919e-cb74-413f-9c01-f7c653e05600",
   "metadata": {
    "tags": []
   },
   "outputs": [
    {
     "name": "stdout",
     "output_type": "stream",
     "text": [
      "John\n",
      "American\n",
      "1964\n"
     ]
    }
   ],
   "source": [
    "user_data = ('John','American',1964)\n",
    "for element in user_data:\n",
    "    print(element)"
   ]
  },
  {
   "cell_type": "code",
   "execution_count": 6,
   "id": "0398da61-973d-4daa-8895-c6411e181115",
   "metadata": {
    "tags": []
   },
   "outputs": [
    {
     "name": "stdout",
     "output_type": "stream",
     "text": [
      "('John', 'American', 1964, 'teacher', 'male')\n"
     ]
    }
   ],
   "source": [
    "user_data = ('John','American',1964) + ('teacher','male')\n",
    "print(user_data)"
   ]
  },
  {
   "cell_type": "code",
   "execution_count": 7,
   "id": "34d6dcb6-137f-4b57-89e3-ac2e3f146438",
   "metadata": {
    "tags": []
   },
   "outputs": [
    {
     "name": "stdout",
     "output_type": "stream",
     "text": [
      "(1, 0, 1, 0, 1, 0, 1, 0, 1, 0, 1, 0, 1, 0, 1, 0, 1, 0, 1, 0)\n"
     ]
    }
   ],
   "source": [
    "numbers = (1,0)*10\n",
    "print(numbers)"
   ]
  },
  {
   "cell_type": "code",
   "execution_count": 8,
   "id": "eba7842b-ddff-4619-8af3-d6556dc840f2",
   "metadata": {
    "tags": []
   },
   "outputs": [],
   "source": [
    "male_names = ['Adam','Gerry','Mark']\n"
   ]
  },
  {
   "cell_type": "code",
   "execution_count": 9,
   "id": "38516080-3338-4ab9-beb1-f76628203888",
   "metadata": {
    "tags": []
   },
   "outputs": [],
   "source": [
    "berlin_temps = [13.0,17.5,12.0]"
   ]
  },
  {
   "cell_type": "code",
   "execution_count": 10,
   "id": "f67dd438-0222-46c5-ba80-5d0bdb50ee6e",
   "metadata": {
    "tags": []
   },
   "outputs": [],
   "source": [
    "# Use tuples when grouping values are different data types\n",
    "user_data = ('John','American',1964)"
   ]
  },
  {
   "cell_type": "code",
   "execution_count": 11,
   "id": "a10c6ab2-888e-47c9-a9bd-3dc99b432e00",
   "metadata": {
    "tags": []
   },
   "outputs": [],
   "source": [
    "first = 5 \n",
    "second = 7\n",
    "first,second = second,first"
   ]
  },
  {
   "cell_type": "code",
   "execution_count": null,
   "id": "0b3b9ed4-e0c2-4770-b4e3-124fc8d4edca",
   "metadata": {},
   "outputs": [],
   "source": []
  }
 ],
 "metadata": {
  "kernelspec": {
   "display_name": "Python 3 (ipykernel)",
   "language": "python",
   "name": "python3"
  },
  "language_info": {
   "codemirror_mode": {
    "name": "ipython",
    "version": 3
   },
   "file_extension": ".py",
   "mimetype": "text/x-python",
   "name": "python",
   "nbconvert_exporter": "python",
   "pygments_lexer": "ipython3",
   "version": "3.11.5"
  }
 },
 "nbformat": 4,
 "nbformat_minor": 5
}
