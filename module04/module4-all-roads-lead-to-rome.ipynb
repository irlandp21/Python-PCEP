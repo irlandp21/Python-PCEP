{
 "cells": [
  {
   "cell_type": "markdown",
   "id": "ee094276-e900-45d9-8525-94783d893357",
   "metadata": {},
   "source": [
    "## All Roads Lead to Rome\n",
    "You are given a list with various flight connections in Europe. Each connection is represented as a tuple with the following elements:\n",
    "\n",
    "(city_from, city_to, time)\n",
    "\n",
    "For example, the following tuple represents a flight from Amsterdam to Dublin which takes 100 minutes:\n",
    "\n",
    "('Amsterdam', 'Dublin', 100)\n",
    "\n",
    "Your task is to go through all the routes in a loop and check how many of them lead to Rome (i.e. how many of them have city_to equal to 'Rome'). Among the routes to Rome, you should also calculate the average flight time. Print the following the output:\n",
    "\n",
    "{} connections lead to Rome with an average flight time of {} minutes\n",
    "\n",
    "Replace {} with the number of connections and the average flight time."
   ]
  },
  {
   "cell_type": "code",
   "execution_count": 1,
   "id": "e0d50d2e-a6ba-4409-8456-5598e760145f",
   "metadata": {
    "tags": []
   },
   "outputs": [],
   "source": [
    "connections = [\n",
    "    ('Amsterdam', 'Dublin', 100),\n",
    "    ('Amsterdam', 'Rome', 140),\n",
    "    ('Rome', 'Warsaw', 130),\n",
    "    ('Minsk', 'Prague', 95),\n",
    "    ('Stockholm', 'Rome', 190),\n",
    "    ('Copenhagen', 'Paris', 120),\n",
    "    ('Madrid', 'Rome', 135),\n",
    "    ('Lisbon', 'Rome', 170),\n",
    "    ('Dublin', 'Rome', 170),\n",
    "    ]"
   ]
  },
  {
   "cell_type": "code",
   "execution_count": 4,
   "id": "1aeccd21-117b-462e-8961-26bb3930fe04",
   "metadata": {
    "tags": []
   },
   "outputs": [
    {
     "name": "stdout",
     "output_type": "stream",
     "text": [
      "5 connections lead to Rome with an average flight time of  161.0  minutes\n"
     ]
    }
   ],
   "source": [
    "count = 0;\n",
    "sum = 0;\n",
    "for route in connections:\n",
    "    if route[1] == 'Rome':\n",
    "        count+=1\n",
    "        sum+=route[2]\n",
    "        \n",
    "print(count,'connections lead to Rome with an average flight time of',sum / count,' minutes')\n",
    "        "
   ]
  },
  {
   "cell_type": "code",
   "execution_count": null,
   "id": "e5edefd1-f480-46bc-ba32-b93c388c9984",
   "metadata": {},
   "outputs": [],
   "source": []
  }
 ],
 "metadata": {
  "kernelspec": {
   "display_name": "Python 3 (ipykernel)",
   "language": "python",
   "name": "python3"
  },
  "language_info": {
   "codemirror_mode": {
    "name": "ipython",
    "version": 3
   },
   "file_extension": ".py",
   "mimetype": "text/x-python",
   "name": "python",
   "nbconvert_exporter": "python",
   "pygments_lexer": "ipython3",
   "version": "3.11.5"
  }
 },
 "nbformat": 4,
 "nbformat_minor": 5
}
