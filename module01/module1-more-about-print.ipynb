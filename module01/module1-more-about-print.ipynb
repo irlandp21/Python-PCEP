{
 "cells": [
  {
   "cell_type": "code",
   "execution_count": 1,
   "id": "823fce43-7ccb-4db8-b3fd-4869750b8143",
   "metadata": {
    "tags": []
   },
   "outputs": [
    {
     "name": "stdout",
     "output_type": "stream",
     "text": [
      "Hello!\n"
     ]
    }
   ],
   "source": [
    "print('Hello!')"
   ]
  },
  {
   "cell_type": "code",
   "execution_count": 2,
   "id": "3460e019-9ce9-4a6c-9533-dcd7c1b71246",
   "metadata": {
    "tags": []
   },
   "outputs": [
    {
     "name": "stdout",
     "output_type": "stream",
     "text": [
      "I'm studying python\n"
     ]
    }
   ],
   "source": [
    "print('I\\'m studying python')"
   ]
  },
  {
   "cell_type": "code",
   "execution_count": 5,
   "id": "ee651084-281d-4c60-94ee-4828d322f97a",
   "metadata": {
    "tags": []
   },
   "outputs": [
    {
     "name": "stdout",
     "output_type": "stream",
     "text": [
      "I'm studying python\n",
      "\n",
      "and having fun\n"
     ]
    }
   ],
   "source": [
    "print('I\\'m studying python')\n",
    "print()\n",
    "print('and having fun')"
   ]
  },
  {
   "cell_type": "code",
   "execution_count": 6,
   "id": "e1799219-3a4c-4830-8e49-c84bb963c9c3",
   "metadata": {
    "tags": []
   },
   "outputs": [
    {
     "name": "stdout",
     "output_type": "stream",
     "text": [
      "I'm studying python and having fun\n"
     ]
    }
   ],
   "source": [
    "print('I\\'m studying python','and having fun')"
   ]
  },
  {
   "cell_type": "code",
   "execution_count": 7,
   "id": "ea9bb760-c953-4399-a534-3d837e0851b7",
   "metadata": {
    "tags": []
   },
   "outputs": [
    {
     "name": "stdout",
     "output_type": "stream",
     "text": [
      "I'm studying pythonand having fun\n"
     ]
    }
   ],
   "source": [
    "print('I\\'m studying python','and having fun',sep=\"\")"
   ]
  },
  {
   "cell_type": "code",
   "execution_count": 8,
   "id": "1a6a4b49-d29a-4862-bbb8-c295c25dde6f",
   "metadata": {
    "tags": []
   },
   "outputs": [
    {
     "name": "stdout",
     "output_type": "stream",
     "text": [
      "I'm studying \n",
      "python\n"
     ]
    }
   ],
   "source": [
    "print('I\\'m studying \\npython')"
   ]
  },
  {
   "cell_type": "code",
   "execution_count": null,
   "id": "7317c359-c6de-4e26-9917-e74b47844385",
   "metadata": {},
   "outputs": [],
   "source": []
  }
 ],
 "metadata": {
  "kernelspec": {
   "display_name": "Python 3 (ipykernel)",
   "language": "python",
   "name": "python3"
  },
  "language_info": {
   "codemirror_mode": {
    "name": "ipython",
    "version": 3
   },
   "file_extension": ".py",
   "mimetype": "text/x-python",
   "name": "python",
   "nbconvert_exporter": "python",
   "pygments_lexer": "ipython3",
   "version": "3.11.5"
  }
 },
 "nbformat": 4,
 "nbformat_minor": 5
}
