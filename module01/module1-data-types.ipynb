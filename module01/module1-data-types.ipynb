{
 "cells": [
  {
   "cell_type": "code",
   "execution_count": null,
   "id": "b2c0fba3-a68d-4441-b44a-6796702a85e1",
   "metadata": {},
   "outputs": [],
   "source": [
    "greeting='Hello, friend!'"
   ]
  },
  {
   "cell_type": "code",
   "execution_count": null,
   "id": "bc7612c9-f95d-45de-a3ac-1012b5a443d5",
   "metadata": {},
   "outputs": [],
   "source": [
    "age = 35"
   ]
  },
  {
   "cell_type": "code",
   "execution_count": null,
   "id": "31677366-ccab-4b6d-985b-dfb801bd6036",
   "metadata": {},
   "outputs": [],
   "source": [
    "speed1 = 4.5\n",
    "speed2 = 4.0\n",
    "speed3 = 4.\n",
    "speed4 = 4"
   ]
  },
  {
   "cell_type": "code",
   "execution_count": 4,
   "id": "8654fc4b-0b9a-4d21-a88b-8f7e17682efa",
   "metadata": {
    "tags": []
   },
   "outputs": [
    {
     "name": "stdout",
     "output_type": "stream",
     "text": [
      "true\n"
     ]
    }
   ],
   "source": [
    "am_i_ugly = True\n",
    "true = 'true'\n",
    "print(true)"
   ]
  },
  {
   "cell_type": "code",
   "execution_count": null,
   "id": "5e61bfa1-09cd-4051-b1b5-c9d56ab50d68",
   "metadata": {},
   "outputs": [],
   "source": []
  }
 ],
 "metadata": {
  "kernelspec": {
   "display_name": "Python 3 (ipykernel)",
   "language": "python",
   "name": "python3"
  },
  "language_info": {
   "codemirror_mode": {
    "name": "ipython",
    "version": 3
   },
   "file_extension": ".py",
   "mimetype": "text/x-python",
   "name": "python",
   "nbconvert_exporter": "python",
   "pygments_lexer": "ipython3",
   "version": "3.11.5"
  }
 },
 "nbformat": 4,
 "nbformat_minor": 5
}
