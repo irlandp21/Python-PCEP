{
 "cells": [
  {
   "cell_type": "code",
   "execution_count": 1,
   "id": "efff254c-56ce-46db-9885-e6e673b2b771",
   "metadata": {
    "tags": []
   },
   "outputs": [
    {
     "data": {
      "text/plain": [
       "12000300"
      ]
     },
     "execution_count": 1,
     "metadata": {},
     "output_type": "execute_result"
    }
   ],
   "source": [
    "#underscores in numbers\n",
    "12000300\n",
    "12_000_300"
   ]
  },
  {
   "cell_type": "code",
   "execution_count": 2,
   "id": "35673837-14dc-4249-a47e-453e584dee55",
   "metadata": {
    "tags": []
   },
   "outputs": [
    {
     "name": "stdout",
     "output_type": "stream",
     "text": [
      "3e-27\n"
     ]
    }
   ],
   "source": [
    "# scientific notation\n",
    "# 3e4 = 3E4 = 3 ( 10000 = 30000\n",
    "# 3e-4 = 3E-4 = 3 * 1/10000 = 0.0003\n",
    "print(0.000000000000000000000000003)"
   ]
  },
  {
   "cell_type": "code",
   "execution_count": 3,
   "id": "92f0b827-0776-4aa6-88f0-95a11a6e2327",
   "metadata": {
    "tags": []
   },
   "outputs": [
    {
     "name": "stdout",
     "output_type": "stream",
     "text": [
      "83\n"
     ]
    }
   ],
   "source": [
    "# octal numbers\n",
    "# start with 0o or 0O\n",
    "print(0o123)"
   ]
  },
  {
   "cell_type": "code",
   "execution_count": 4,
   "id": "a9b0b229-5e00-4498-992f-bdd9d2b31b74",
   "metadata": {
    "tags": []
   },
   "outputs": [
    {
     "name": "stdout",
     "output_type": "stream",
     "text": [
      "291\n"
     ]
    }
   ],
   "source": [
    "# hexadecima numbers\n",
    "# start with 0X or 0x\n",
    "print(0x123)"
   ]
  },
  {
   "cell_type": "code",
   "execution_count": null,
   "id": "03e44127-8fd7-439d-ae5f-b2c7d93637ce",
   "metadata": {},
   "outputs": [],
   "source": []
  }
 ],
 "metadata": {
  "kernelspec": {
   "display_name": "Python 3 (ipykernel)",
   "language": "python",
   "name": "python3"
  },
  "language_info": {
   "codemirror_mode": {
    "name": "ipython",
    "version": 3
   },
   "file_extension": ".py",
   "mimetype": "text/x-python",
   "name": "python",
   "nbconvert_exporter": "python",
   "pygments_lexer": "ipython3",
   "version": "3.11.5"
  }
 },
 "nbformat": 4,
 "nbformat_minor": 5
}
