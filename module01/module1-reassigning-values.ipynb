{
 "cells": [
  {
   "cell_type": "code",
   "execution_count": 1,
   "id": "99bb36b4-617a-4b30-a140-8baba63ff830",
   "metadata": {
    "tags": []
   },
   "outputs": [
    {
     "name": "stdout",
     "output_type": "stream",
     "text": [
      "28\n"
     ]
    }
   ],
   "source": [
    "age = 28\n",
    "print(age)"
   ]
  },
  {
   "cell_type": "code",
   "execution_count": 2,
   "id": "312a2ee3-cf2c-48e4-87c6-b2310ee0550b",
   "metadata": {
    "tags": []
   },
   "outputs": [
    {
     "name": "stdout",
     "output_type": "stream",
     "text": [
      "33\n"
     ]
    }
   ],
   "source": [
    "age = 28\n",
    "new_age = age+5\n",
    "print(new_age)"
   ]
  },
  {
   "cell_type": "code",
   "execution_count": 3,
   "id": "94ffe11e-44eb-4c1b-9917-c4048cc74c58",
   "metadata": {
    "tags": []
   },
   "outputs": [
    {
     "name": "stdout",
     "output_type": "stream",
     "text": [
      "35\n"
     ]
    }
   ],
   "source": [
    "age = 28\n",
    "new_age = age+7\n",
    "print(new_age)"
   ]
  },
  {
   "cell_type": "code",
   "execution_count": 4,
   "id": "6c46d072-b57a-435f-b128-5d0567f6edce",
   "metadata": {
    "tags": []
   },
   "outputs": [
    {
     "name": "stdout",
     "output_type": "stream",
     "text": [
      "35\n"
     ]
    }
   ],
   "source": [
    "age = 28\n",
    "age += 7\n",
    "print(age)"
   ]
  },
  {
   "cell_type": "code",
   "execution_count": 6,
   "id": "9d81e767-3f51-4c0d-b119-525f5a99b4e6",
   "metadata": {
    "tags": []
   },
   "outputs": [
    {
     "name": "stdout",
     "output_type": "stream",
     "text": [
      "21.666666666666668\n"
     ]
    }
   ],
   "source": [
    "age*=2\n",
    "age-=5\n",
    "age/=3\n",
    "print(age)"
   ]
  },
  {
   "cell_type": "code",
   "execution_count": 7,
   "id": "ece3c1de-d71c-481d-b39e-ded6d3172c78",
   "metadata": {
    "tags": []
   },
   "outputs": [
    {
     "name": "stdout",
     "output_type": "stream",
     "text": [
      "hocuspokus\n"
     ]
    }
   ],
   "source": [
    "text = 'hocus'+'pokus'\n",
    "print(text)"
   ]
  },
  {
   "cell_type": "code",
   "execution_count": 8,
   "id": "1aaccd1e-1007-4174-b889-5814be7b16ea",
   "metadata": {
    "tags": []
   },
   "outputs": [
    {
     "name": "stdout",
     "output_type": "stream",
     "text": [
      "hokushokushokushokushokus\n"
     ]
    }
   ],
   "source": [
    "print('hokus'*5)\n"
   ]
  },
  {
   "cell_type": "code",
   "execution_count": 9,
   "id": "4bc9dad0-7d79-4f8d-aa7a-64619ca175b5",
   "metadata": {
    "tags": []
   },
   "outputs": [
    {
     "name": "stdout",
     "output_type": "stream",
     "text": [
      "28\n"
     ]
    }
   ],
   "source": [
    "print(23+5)\n"
   ]
  },
  {
   "cell_type": "code",
   "execution_count": 10,
   "id": "b06907b9-c33a-4b0a-82e0-f2c1c7acafb5",
   "metadata": {
    "tags": []
   },
   "outputs": [
    {
     "name": "stdout",
     "output_type": "stream",
     "text": [
      "235\n"
     ]
    }
   ],
   "source": [
    "print('23'+'5')"
   ]
  },
  {
   "cell_type": "code",
   "execution_count": null,
   "id": "250fbe6f-6717-4c05-b722-bb4e9b5013d5",
   "metadata": {},
   "outputs": [],
   "source": []
  }
 ],
 "metadata": {
  "kernelspec": {
   "display_name": "Python 3 (ipykernel)",
   "language": "python",
   "name": "python3"
  },
  "language_info": {
   "codemirror_mode": {
    "name": "ipython",
    "version": 3
   },
   "file_extension": ".py",
   "mimetype": "text/x-python",
   "name": "python",
   "nbconvert_exporter": "python",
   "pygments_lexer": "ipython3",
   "version": "3.11.5"
  }
 },
 "nbformat": 4,
 "nbformat_minor": 5
}
