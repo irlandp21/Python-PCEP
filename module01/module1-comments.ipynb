{
 "cells": [
  {
   "cell_type": "code",
   "execution_count": null,
   "id": "fbd766e3-9800-4e9f-9ac9-58465779bcd0",
   "metadata": {},
   "outputs": [],
   "source": [
    "print('sample') # here is a midline comment"
   ]
  },
  {
   "cell_type": "code",
   "execution_count": 1,
   "id": "bb26e5bc-6312-4cf2-ba36-a42f59af7052",
   "metadata": {
    "tags": []
   },
   "outputs": [],
   "source": [
    "# here is an all-line comment"
   ]
  },
  {
   "cell_type": "code",
   "execution_count": 2,
   "id": "9a4fb98a-98cc-49a4-b6ee-6c5b6f0639fe",
   "metadata": {
    "tags": []
   },
   "outputs": [],
   "source": [
    "# note that the variables are strings, not number\n",
    "var1 = '23'\n",
    "var2 = '54'"
   ]
  },
  {
   "cell_type": "code",
   "execution_count": 3,
   "id": "246b207b-af13-4bd3-a873-17e63f08a141",
   "metadata": {
    "tags": []
   },
   "outputs": [
    {
     "name": "stdout",
     "output_type": "stream",
     "text": [
      "23\n",
      "54\n"
     ]
    }
   ],
   "source": [
    "print(var1)\n",
    "print(var2)"
   ]
  },
  {
   "cell_type": "code",
   "execution_count": null,
   "id": "25a2e132-2c1f-40d8-b1f1-d85bd0c35bd5",
   "metadata": {},
   "outputs": [],
   "source": []
  }
 ],
 "metadata": {
  "kernelspec": {
   "display_name": "Python 3 (ipykernel)",
   "language": "python",
   "name": "python3"
  },
  "language_info": {
   "codemirror_mode": {
    "name": "ipython",
    "version": 3
   },
   "file_extension": ".py",
   "mimetype": "text/x-python",
   "name": "python",
   "nbconvert_exporter": "python",
   "pygments_lexer": "ipython3",
   "version": "3.11.5"
  }
 },
 "nbformat": 4,
 "nbformat_minor": 5
}
