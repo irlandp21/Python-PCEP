{
 "cells": [
  {
   "cell_type": "code",
   "execution_count": 3,
   "id": "7ccf2377",
   "metadata": {},
   "outputs": [
    {
     "name": "stdout",
     "output_type": "stream",
     "text": [
      "The average is: 5.5\n"
     ]
    }
   ],
   "source": [
    "def get_average(input_numbers):\n",
    "    sum = 0.0\n",
    "    for number in input_numbers:\n",
    "        sum+= number\n",
    "    average = sum / len(input_numbers)\n",
    "    return average\n",
    "\n",
    "print(\"The average is:\",get_average([1,2,3,4,5,6,7,8,9,10]))"
   ]
  },
  {
   "cell_type": "code",
   "execution_count": 4,
   "id": "7a390613",
   "metadata": {},
   "outputs": [
    {
     "name": "stdout",
     "output_type": "stream",
     "text": [
      "The average is too high\n"
     ]
    }
   ],
   "source": [
    "average = get_average([5.0,3.5,7.8,9.9,10.0])\n",
    "if(average > 5.0):\n",
    "    print('The average is too high')"
   ]
  },
  {
   "cell_type": "code",
   "execution_count": 7,
   "id": "1769d80a",
   "metadata": {},
   "outputs": [
    {
     "data": {
      "text/plain": [
       "2.0"
      ]
     },
     "execution_count": 7,
     "metadata": {},
     "output_type": "execute_result"
    }
   ],
   "source": [
    "def get_average(input_numbers):\n",
    "    sum = 0.0\n",
    "    for number in input_numbers:\n",
    "        sum+= number\n",
    "    average = sum / len(input_numbers)\n",
    "    return average\n",
    "    print('show me!')\n",
    "\n",
    "get_average([2.0])"
   ]
  },
  {
   "cell_type": "code",
   "execution_count": 15,
   "id": "6bfad076",
   "metadata": {},
   "outputs": [],
   "source": [
    "def is_first_last_equal(number_list):\n",
    "    if len(number_list)==0:\n",
    "        return\n",
    "    if(number_list[0] == number_list[-1]):\n",
    "        return True\n",
    "    else:\n",
    "        return False\n",
    "    \n"
   ]
  },
  {
   "cell_type": "code",
   "execution_count": 16,
   "id": "7b8e62b4",
   "metadata": {},
   "outputs": [
    {
     "name": "stdout",
     "output_type": "stream",
     "text": [
      "True\n"
     ]
    }
   ],
   "source": [
    "print(is_first_last_equal([10,20,30,40,50,10]))   "
   ]
  },
  {
   "cell_type": "code",
   "execution_count": 17,
   "id": "f0d665cb",
   "metadata": {},
   "outputs": [
    {
     "name": "stdout",
     "output_type": "stream",
     "text": [
      "False\n"
     ]
    }
   ],
   "source": [
    "print(is_first_last_equal([10,20,30,40,50,60]))   "
   ]
  },
  {
   "cell_type": "code",
   "execution_count": 18,
   "id": "c9aca5f8",
   "metadata": {},
   "outputs": [
    {
     "name": "stdout",
     "output_type": "stream",
     "text": [
      "None\n"
     ]
    }
   ],
   "source": [
    "print(is_first_last_equal([]))   "
   ]
  },
  {
   "cell_type": "code",
   "execution_count": null,
   "id": "41da750e",
   "metadata": {},
   "outputs": [],
   "source": []
  }
 ],
 "metadata": {
  "kernelspec": {
   "display_name": "Python 3 (ipykernel)",
   "language": "python",
   "name": "python3"
  },
  "language_info": {
   "codemirror_mode": {
    "name": "ipython",
    "version": 3
   },
   "file_extension": ".py",
   "mimetype": "text/x-python",
   "name": "python",
   "nbconvert_exporter": "python",
   "pygments_lexer": "ipython3",
   "version": "3.11.5"
  }
 },
 "nbformat": 4,
 "nbformat_minor": 5
}
