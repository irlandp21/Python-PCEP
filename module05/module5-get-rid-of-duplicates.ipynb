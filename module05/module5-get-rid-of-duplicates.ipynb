{
 "cells": [
  {
   "cell_type": "markdown",
   "id": "3a8db878",
   "metadata": {},
   "source": [
    "## Get Rid of Duplicates!\n",
    "\n",
    "Write a function named unique. The function should accept one parameter, which is a list with any number of elements inside. The default value for the parameter should be an empty list ([]).\n",
    "\n",
    "The function should return a new list with all duplicate elements removed. The function should preserve the original order of elements.\n",
    "\n",
    "Example 1: for unique([1, 1, 4, 5, 1]), the output should be [1, 4, 5]\n",
    "Example 2: for unique(['Mark', 'Mark', 'John', 'Anne']), the output should be  ['Mark', 'John', 'Anne']\n",
    "\n"
   ]
  },
  {
   "cell_type": "code",
   "execution_count": 13,
   "id": "ec1e47b3",
   "metadata": {},
   "outputs": [
    {
     "name": "stdout",
     "output_type": "stream",
     "text": [
      "[1, 1, 2, 3, 3, 4, 4, 5, 5, 6]\n",
      "1\n",
      "3\n",
      "3\n",
      "4\n",
      "4\n",
      "5\n",
      "5\n",
      "6\n"
     ]
    },
    {
     "ename": "IndexError",
     "evalue": "list index out of range",
     "output_type": "error",
     "traceback": [
      "\u001b[0;31m---------------------------------------------------------------------------\u001b[0m",
      "\u001b[0;31mIndexError\u001b[0m                                Traceback (most recent call last)",
      "Cell \u001b[0;32mIn[13], line 12\u001b[0m\n\u001b[1;32m      9\u001b[0m             \u001b[38;5;28;01mdel\u001b[39;00m num_list[i]\n\u001b[1;32m     10\u001b[0m     \u001b[38;5;28;01mreturn\u001b[39;00m num_list \n\u001b[0;32m---> 12\u001b[0m unique([\u001b[38;5;241m1\u001b[39m,\u001b[38;5;241m1\u001b[39m,\u001b[38;5;241m2\u001b[39m,\u001b[38;5;241m3\u001b[39m,\u001b[38;5;241m3\u001b[39m,\u001b[38;5;241m4\u001b[39m,\u001b[38;5;241m4\u001b[39m,\u001b[38;5;241m5\u001b[39m,\u001b[38;5;241m5\u001b[39m,\u001b[38;5;241m6\u001b[39m])\n",
      "Cell \u001b[0;32mIn[13], line 6\u001b[0m, in \u001b[0;36munique\u001b[0;34m(num_list)\u001b[0m\n\u001b[1;32m      4\u001b[0m current \u001b[38;5;241m=\u001b[39m num_list[write]\n\u001b[1;32m      5\u001b[0m \u001b[38;5;28;01mfor\u001b[39;00m i \u001b[38;5;129;01min\u001b[39;00m \u001b[38;5;28mrange\u001b[39m(\u001b[38;5;241m1\u001b[39m, \u001b[38;5;28mlen\u001b[39m(num_list)):\n\u001b[0;32m----> 6\u001b[0m     \u001b[38;5;28mprint\u001b[39m(num_list[i],sep\u001b[38;5;241m=\u001b[39m\u001b[38;5;124m\"\u001b[39m\u001b[38;5;124m \u001b[39m\u001b[38;5;124m\"\u001b[39m)\n\u001b[1;32m      7\u001b[0m     \u001b[38;5;28;01mif\u001b[39;00m current \u001b[38;5;241m==\u001b[39m num_list[i] \u001b[38;5;129;01mand\u001b[39;00m i \u001b[38;5;241m!=\u001b[39m write:\n\u001b[1;32m      8\u001b[0m         write\u001b[38;5;241m+\u001b[39m\u001b[38;5;241m=\u001b[39m\u001b[38;5;241m1\u001b[39m\n",
      "\u001b[0;31mIndexError\u001b[0m: list index out of range"
     ]
    }
   ],
   "source": [
    "def unique(num_list):\n",
    "    print(num_list)\n",
    "    write = 0\n",
    "    current = num_list[write]\n",
    "    for i in range(1, len(num_list)):\n",
    "        print(num_list[i],sep=\" \")\n",
    "    \n",
    "    return num_list \n",
    "\n",
    "unique([1,1,2,3,3,4,4,5,5,6])"
   ]
  },
  {
   "cell_type": "code",
   "execution_count": 8,
   "id": "73eaaafb",
   "metadata": {},
   "outputs": [
    {
     "name": "stdout",
     "output_type": "stream",
     "text": [
      "[1, 1, 2, 3, 3, 4, 4, 5, 5, 6]\n"
     ]
    },
    {
     "ename": "IndexError",
     "evalue": "list index out of range",
     "output_type": "error",
     "traceback": [
      "\u001b[0;31m---------------------------------------------------------------------------\u001b[0m",
      "\u001b[0;31mIndexError\u001b[0m                                Traceback (most recent call last)",
      "Cell \u001b[0;32mIn[8], line 1\u001b[0m\n\u001b[0;32m----> 1\u001b[0m unique([\u001b[38;5;241m1\u001b[39m,\u001b[38;5;241m1\u001b[39m,\u001b[38;5;241m2\u001b[39m,\u001b[38;5;241m3\u001b[39m,\u001b[38;5;241m3\u001b[39m,\u001b[38;5;241m4\u001b[39m,\u001b[38;5;241m4\u001b[39m,\u001b[38;5;241m5\u001b[39m,\u001b[38;5;241m5\u001b[39m,\u001b[38;5;241m6\u001b[39m])\n",
      "Cell \u001b[0;32mIn[7], line 6\u001b[0m, in \u001b[0;36munique\u001b[0;34m(num_list)\u001b[0m\n\u001b[1;32m      4\u001b[0m current \u001b[38;5;241m=\u001b[39m \u001b[38;5;241m0\u001b[39m\n\u001b[1;32m      5\u001b[0m \u001b[38;5;28;01mfor\u001b[39;00m i \u001b[38;5;129;01min\u001b[39;00m \u001b[38;5;28mrange\u001b[39m(\u001b[38;5;28mlen\u001b[39m(num_list)):\n\u001b[0;32m----> 6\u001b[0m     current \u001b[38;5;241m=\u001b[39m num_list[i]\n\u001b[1;32m      7\u001b[0m     \u001b[38;5;28;01mif\u001b[39;00m num_list[write] \u001b[38;5;241m==\u001b[39m current \u001b[38;5;129;01mand\u001b[39;00m i \u001b[38;5;241m!=\u001b[39m write:\n\u001b[1;32m      8\u001b[0m         \u001b[38;5;28;01mdel\u001b[39;00m num_list[i]\n",
      "\u001b[0;31mIndexError\u001b[0m: list index out of range"
     ]
    }
   ],
   "source": [
    "unique([1,1,2,3,3,4,4,5,5,6])"
   ]
  },
  {
   "cell_type": "code",
   "execution_count": null,
   "id": "ad3a7a82",
   "metadata": {},
   "outputs": [],
   "source": []
  }
 ],
 "metadata": {
  "kernelspec": {
   "display_name": "Python 3 (ipykernel)",
   "language": "python",
   "name": "python3"
  },
  "language_info": {
   "codemirror_mode": {
    "name": "ipython",
    "version": 3
   },
   "file_extension": ".py",
   "mimetype": "text/x-python",
   "name": "python",
   "nbconvert_exporter": "python",
   "pygments_lexer": "ipython3",
   "version": "3.11.5"
  }
 },
 "nbformat": 4,
 "nbformat_minor": 5
}
