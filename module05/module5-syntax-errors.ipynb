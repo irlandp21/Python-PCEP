{
 "cells": [
  {
   "cell_type": "markdown",
   "id": "46ca9e6e",
   "metadata": {},
   "source": [
    "Can you catch SyntaxErrors?\n",
    "In the video with the introduction to exceptions, I've mentioned that you can use the default except block to catch any sort of exception:\n",
    "\n",
    "try:\n",
    "  * your code\n",
    "except:\n",
    "  * any exception\n",
    "However, there is one special exception type: SyntaxError. You should pay attention to how it works.\n",
    "\n",
    "If you raise a SyntaxError manually, then you can catch it in the except block just fine:\n",
    "\n",
    "try:\n",
    "  raise SyntaxError\n",
    "except:\n",
    "  print('Got it!') # SyntaxError is caught here\n",
    "However, if you make a syntax error in the try block and Python automatically raises a SyntaxError for you, then you cannot catch it:\n",
    "\n",
    "try:\n",
    "  5:4 # this line generates a SyntaxError\n",
    "except:\n",
    "  print('Got it!') # SyntaxError is NOT caught here"
   ]
  },
  {
   "cell_type": "code",
   "execution_count": 2,
   "id": "7f31c10d",
   "metadata": {},
   "outputs": [
    {
     "name": "stdout",
     "output_type": "stream",
     "text": [
      "Caught SyntaxError\n"
     ]
    }
   ],
   "source": [
    "try:\n",
    "    raise SyntaxError\n",
    "except SyntaxError:\n",
    "    print(\"Caught SyntaxError\")"
   ]
  },
  {
   "cell_type": "code",
   "execution_count": 3,
   "id": "9b3c3c38",
   "metadata": {},
   "outputs": [
    {
     "ename": "SyntaxError",
     "evalue": "illegal target for annotation (1175989910.py, line 2)",
     "output_type": "error",
     "traceback": [
      "\u001b[0;36m  Cell \u001b[0;32mIn[3], line 2\u001b[0;36m\u001b[0m\n\u001b[0;31m    5:4\u001b[0m\n\u001b[0m    ^\u001b[0m\n\u001b[0;31mSyntaxError\u001b[0m\u001b[0;31m:\u001b[0m illegal target for annotation\n"
     ]
    }
   ],
   "source": [
    "try:\n",
    "    5:4\n",
    "except:\n",
    "    print(\"Caught SyntaxError\")"
   ]
  },
  {
   "cell_type": "code",
   "execution_count": null,
   "id": "677f5a26",
   "metadata": {},
   "outputs": [],
   "source": []
  }
 ],
 "metadata": {
  "kernelspec": {
   "display_name": "Python 3 (ipykernel)",
   "language": "python",
   "name": "python3"
  },
  "language_info": {
   "codemirror_mode": {
    "name": "ipython",
    "version": 3
   },
   "file_extension": ".py",
   "mimetype": "text/x-python",
   "name": "python",
   "nbconvert_exporter": "python",
   "pygments_lexer": "ipython3",
   "version": "3.11.5"
  }
 },
 "nbformat": 4,
 "nbformat_minor": 5
}
