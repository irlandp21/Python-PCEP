{
 "cells": [
  {
   "cell_type": "code",
   "execution_count": 2,
   "id": "6c454ba9",
   "metadata": {},
   "outputs": [],
   "source": [
    "def get_average(input_numbers):\n",
    "    sum = 0.0\n",
    "    for number in input_numbers:\n",
    "        sum+=number\n",
    "    average = sum / len(input_numbers)\n",
    "    print(average)"
   ]
  },
  {
   "cell_type": "code",
   "execution_count": 3,
   "id": "c89dfb89",
   "metadata": {},
   "outputs": [
    {
     "name": "stdout",
     "output_type": "stream",
     "text": [
      "7.24\n"
     ]
    }
   ],
   "source": [
    "input_numbers = [5.0,3.5,7.8,9.9,10.]\n",
    "get_average(input_numbers)"
   ]
  },
  {
   "cell_type": "code",
   "execution_count": 4,
   "id": "e2f96ca3",
   "metadata": {},
   "outputs": [
    {
     "name": "stdout",
     "output_type": "stream",
     "text": [
      "7.24\n"
     ]
    }
   ],
   "source": [
    "input_numbers = [5.0,3.5,7.8,9.9,10.]\n",
    "get_average([5.0,3.5,7.8,9.9,10.])"
   ]
  },
  {
   "cell_type": "code",
   "execution_count": 5,
   "id": "d764a8cf",
   "metadata": {},
   "outputs": [
    {
     "ename": "TypeError",
     "evalue": "unsupported operand type(s) for +=: 'float' and 'str'",
     "output_type": "error",
     "traceback": [
      "\u001b[0;31m---------------------------------------------------------------------------\u001b[0m",
      "\u001b[0;31mTypeError\u001b[0m                                 Traceback (most recent call last)",
      "Cell \u001b[0;32mIn[5], line 2\u001b[0m\n\u001b[1;32m      1\u001b[0m input_numbers \u001b[38;5;241m=\u001b[39m [\u001b[38;5;241m5.0\u001b[39m,\u001b[38;5;241m3.5\u001b[39m,\u001b[38;5;241m7.8\u001b[39m,\u001b[38;5;241m9.9\u001b[39m,\u001b[38;5;241m10.\u001b[39m]\n\u001b[0;32m----> 2\u001b[0m get_average([\u001b[38;5;124m'\u001b[39m\u001b[38;5;124mA\u001b[39m\u001b[38;5;124m'\u001b[39m,\u001b[38;5;124m'\u001b[39m\u001b[38;5;124mB\u001b[39m\u001b[38;5;124m'\u001b[39m,\u001b[38;5;241m5.0\u001b[39m,\u001b[38;5;241m3.5\u001b[39m,\u001b[38;5;241m7.8\u001b[39m,\u001b[38;5;241m9.9\u001b[39m,\u001b[38;5;241m10.\u001b[39m])\n",
      "Cell \u001b[0;32mIn[2], line 6\u001b[0m, in \u001b[0;36mget_average\u001b[0;34m(input_numbers)\u001b[0m\n\u001b[1;32m      4\u001b[0m \u001b[38;5;28msum\u001b[39m \u001b[38;5;241m=\u001b[39m \u001b[38;5;241m0.0\u001b[39m\n\u001b[1;32m      5\u001b[0m \u001b[38;5;28;01mfor\u001b[39;00m number \u001b[38;5;129;01min\u001b[39;00m input_numbers:\n\u001b[0;32m----> 6\u001b[0m     \u001b[38;5;28msum\u001b[39m\u001b[38;5;241m+\u001b[39m\u001b[38;5;241m=\u001b[39mnumber\n\u001b[1;32m      7\u001b[0m average \u001b[38;5;241m=\u001b[39m \u001b[38;5;28msum\u001b[39m \u001b[38;5;241m/\u001b[39m \u001b[38;5;28mlen\u001b[39m(input_numbers)\n\u001b[1;32m      8\u001b[0m \u001b[38;5;28mprint\u001b[39m(average)\n",
      "\u001b[0;31mTypeError\u001b[0m: unsupported operand type(s) for +=: 'float' and 'str'"
     ]
    }
   ],
   "source": [
    "input_numbers = [5.0,3.5,7.8,9.9,10.]\n",
    "get_average(['A','B',5.0,3.5,7.8,9.9,10.])"
   ]
  },
  {
   "cell_type": "code",
   "execution_count": 12,
   "id": "e1e5d7fd",
   "metadata": {},
   "outputs": [],
   "source": [
    "def print_letter_count(text,letter):\n",
    "    counter = 0\n",
    "    for char in text:\n",
    "        counter+=1\n",
    "    print('Number of',letter, counter)    "
   ]
  },
  {
   "cell_type": "code",
   "execution_count": 13,
   "id": "fb45cbee",
   "metadata": {},
   "outputs": [
    {
     "name": "stdout",
     "output_type": "stream",
     "text": [
      "Number of e 7\n"
     ]
    }
   ],
   "source": [
    "print_letter_count('Welcome','e')"
   ]
  },
  {
   "cell_type": "code",
   "execution_count": 14,
   "id": "6fc0656a",
   "metadata": {},
   "outputs": [
    {
     "name": "stdout",
     "output_type": "stream",
     "text": [
      "Number of a 32\n"
     ]
    }
   ],
   "source": [
    "print_letter_count('People say nothing is impossible','a')"
   ]
  },
  {
   "cell_type": "code",
   "execution_count": 15,
   "id": "fdea55e4",
   "metadata": {},
   "outputs": [
    {
     "name": "stdout",
     "output_type": "stream",
     "text": [
      "Number of e 7\n"
     ]
    }
   ],
   "source": [
    "print_letter_count(text='Welcome',letter='e')"
   ]
  },
  {
   "cell_type": "code",
   "execution_count": null,
   "id": "bf41be7a",
   "metadata": {},
   "outputs": [],
   "source": []
  }
 ],
 "metadata": {
  "kernelspec": {
   "display_name": "Python 3 (ipykernel)",
   "language": "python",
   "name": "python3"
  },
  "language_info": {
   "codemirror_mode": {
    "name": "ipython",
    "version": 3
   },
   "file_extension": ".py",
   "mimetype": "text/x-python",
   "name": "python",
   "nbconvert_exporter": "python",
   "pygments_lexer": "ipython3",
   "version": "3.11.5"
  }
 },
 "nbformat": 4,
 "nbformat_minor": 5
}
