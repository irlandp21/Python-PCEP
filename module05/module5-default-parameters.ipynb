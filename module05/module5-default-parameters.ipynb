{
 "cells": [
  {
   "cell_type": "code",
   "execution_count": 1,
   "id": "8ec3670e",
   "metadata": {},
   "outputs": [
    {
     "name": "stdout",
     "output_type": "stream",
     "text": [
      "Hello-How are you?."
     ]
    }
   ],
   "source": [
    "print('Hello','How are you?', end=\".\",sep='-')"
   ]
  },
  {
   "cell_type": "code",
   "execution_count": 6,
   "id": "d979b7eb",
   "metadata": {},
   "outputs": [],
   "source": [
    "def print_letter_count(text='This is the default string to search',letter='a'):\n",
    "    counter = 0\n",
    "    for char in text:\n",
    "        if char == letter:\n",
    "            counter+=1\n",
    "    print('Number of',letter, counter)    "
   ]
  },
  {
   "cell_type": "code",
   "execution_count": 7,
   "id": "28179a65",
   "metadata": {},
   "outputs": [
    {
     "name": "stdout",
     "output_type": "stream",
     "text": [
      "Number of a 3\n"
     ]
    }
   ],
   "source": [
    "print_letter_count('How many leteer a are here?')"
   ]
  },
  {
   "cell_type": "code",
   "execution_count": 8,
   "id": "6a10c803",
   "metadata": {},
   "outputs": [
    {
     "name": "stdout",
     "output_type": "stream",
     "text": [
      "Number of a 2\n"
     ]
    }
   ],
   "source": [
    "print_letter_count()"
   ]
  },
  {
   "cell_type": "code",
   "execution_count": null,
   "id": "b9dfa5db",
   "metadata": {},
   "outputs": [],
   "source": []
  }
 ],
 "metadata": {
  "kernelspec": {
   "display_name": "Python 3 (ipykernel)",
   "language": "python",
   "name": "python3"
  },
  "language_info": {
   "codemirror_mode": {
    "name": "ipython",
    "version": 3
   },
   "file_extension": ".py",
   "mimetype": "text/x-python",
   "name": "python",
   "nbconvert_exporter": "python",
   "pygments_lexer": "ipython3",
   "version": "3.11.5"
  }
 },
 "nbformat": 4,
 "nbformat_minor": 5
}
