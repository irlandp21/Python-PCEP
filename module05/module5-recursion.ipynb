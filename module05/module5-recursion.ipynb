{
 "cells": [
  {
   "cell_type": "code",
   "execution_count": 1,
   "id": "35213d88",
   "metadata": {},
   "outputs": [],
   "source": [
    "# factorial\n",
    "# 3! = 1* 2 * 3 = 6\n",
    "# 5! = 1 * 2 * 3 * 4 * 5 = 120\n",
    "\n",
    "def get_factorial(num):\n",
    "    factorial = 1\n",
    "    for x in range(1,num+1):\n",
    "        factorial*=x\n",
    "    return factorial\n",
    "\n"
   ]
  },
  {
   "cell_type": "code",
   "execution_count": 2,
   "id": "5675ee8d",
   "metadata": {},
   "outputs": [
    {
     "name": "stdout",
     "output_type": "stream",
     "text": [
      "1\n"
     ]
    }
   ],
   "source": [
    "print(get_factorial(6))"
   ]
  },
  {
   "cell_type": "code",
   "execution_count": 12,
   "id": "58ca98d7",
   "metadata": {},
   "outputs": [],
   "source": [
    "def get_factorial_recursive (number):\n",
    "    if number <= 1: return 1\n",
    "    return number * get_factorial_recursive(number -1)"
   ]
  },
  {
   "cell_type": "code",
   "execution_count": 14,
   "id": "65aaaef1",
   "metadata": {},
   "outputs": [
    {
     "name": "stdout",
     "output_type": "stream",
     "text": [
      "720\n"
     ]
    }
   ],
   "source": [
    "print(get_factorial_recursive(6))"
   ]
  },
  {
   "cell_type": "code",
   "execution_count": null,
   "id": "e8d16717",
   "metadata": {},
   "outputs": [],
   "source": []
  }
 ],
 "metadata": {
  "kernelspec": {
   "display_name": "Python 3 (ipykernel)",
   "language": "python",
   "name": "python3"
  },
  "language_info": {
   "codemirror_mode": {
    "name": "ipython",
    "version": 3
   },
   "file_extension": ".py",
   "mimetype": "text/x-python",
   "name": "python",
   "nbconvert_exporter": "python",
   "pygments_lexer": "ipython3",
   "version": "3.11.5"
  }
 },
 "nbformat": 4,
 "nbformat_minor": 5
}
